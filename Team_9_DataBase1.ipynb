{
 "cells": [
  {
   "cell_type": "markdown",
   "metadata": {
    "id": "36eaf28c"
   },
   "source": [
    "# **SECRETARIA DE TURISMO DE BOGOTA**\n",
    "\n"
   ]
  },
  {
   "cell_type": "markdown",
   "metadata": {
    "id": "gffxPU38L6if"
   },
   "source": [
    "#Importing the required libraries"
   ]
  },
  {
   "cell_type": "code",
   "execution_count": 5,
   "metadata": {
    "id": "qxbiF0aTMHBh"
   },
   "outputs": [],
   "source": [
    "# Import the Pandas package\n",
    "import pandas as pd\n",
    "# Import the Matplotlib package (for plotting)\n",
    "import matplotlib.pyplot as plt\n",
    "#import plotly.express as px\n",
    "import seaborn as sns\n",
    "import numpy as np\n",
    "import base64\n",
    "path_url_db1 =\"https://github.com/pmoros/ds4a-t9/blob/master/data/original/1.%20Tablero%20cifras%20investigaci%C3%B3n%20viajeros.xlsx?raw=true\"\n"
   ]
  },
  {
   "cell_type": "markdown",
   "metadata": {
    "id": "780e9f5e"
   },
   "source": [
    "# Basic feature engineering\n",
    "Craing tables and cleaning them."
   ]
  },
  {
   "cell_type": "code",
   "execution_count": 6,
   "metadata": {
    "colab": {
     "base_uri": "https://localhost:8080/",
     "height": 419
    },
    "id": "5dd65fcb",
    "outputId": "37b051df-ebb2-4e5a-b78c-9fbbc797bd4c"
   },
   "outputs": [
    {
     "data": {
      "text/html": [
       "<div>\n",
       "<style scoped>\n",
       "    .dataframe tbody tr th:only-of-type {\n",
       "        vertical-align: middle;\n",
       "    }\n",
       "\n",
       "    .dataframe tbody tr th {\n",
       "        vertical-align: top;\n",
       "    }\n",
       "\n",
       "    .dataframe thead th {\n",
       "        text-align: right;\n",
       "    }\n",
       "</style>\n",
       "<table border=\"1\" class=\"dataframe\">\n",
       "  <thead>\n",
       "    <tr style=\"text-align: right;\">\n",
       "      <th></th>\n",
       "      <th>Año</th>\n",
       "      <th>Mes</th>\n",
       "      <th>Tema</th>\n",
       "      <th>Subtema</th>\n",
       "      <th>item</th>\n",
       "      <th>Viajeros</th>\n",
       "    </tr>\n",
       "  </thead>\n",
       "  <tbody>\n",
       "    <tr>\n",
       "      <th>0</th>\n",
       "      <td>2010</td>\n",
       "      <td>Enero</td>\n",
       "      <td>Flujos turísticos</td>\n",
       "      <td>Totales</td>\n",
       "      <td>Viajeros</td>\n",
       "      <td>4851288.0</td>\n",
       "    </tr>\n",
       "    <tr>\n",
       "      <th>1</th>\n",
       "      <td>2010</td>\n",
       "      <td>Febrero</td>\n",
       "      <td>Flujos turísticos</td>\n",
       "      <td>Totales</td>\n",
       "      <td>Viajeros</td>\n",
       "      <td>3374830.0</td>\n",
       "    </tr>\n",
       "    <tr>\n",
       "      <th>2</th>\n",
       "      <td>2010</td>\n",
       "      <td>Marzo</td>\n",
       "      <td>Flujos turísticos</td>\n",
       "      <td>Totales</td>\n",
       "      <td>Viajeros</td>\n",
       "      <td>4082275.0</td>\n",
       "    </tr>\n",
       "    <tr>\n",
       "      <th>3</th>\n",
       "      <td>2010</td>\n",
       "      <td>Abril</td>\n",
       "      <td>Flujos turísticos</td>\n",
       "      <td>Totales</td>\n",
       "      <td>Viajeros</td>\n",
       "      <td>3865644.0</td>\n",
       "    </tr>\n",
       "    <tr>\n",
       "      <th>4</th>\n",
       "      <td>2010</td>\n",
       "      <td>Mayo</td>\n",
       "      <td>Flujos turísticos</td>\n",
       "      <td>Totales</td>\n",
       "      <td>Viajeros</td>\n",
       "      <td>4019998.0</td>\n",
       "    </tr>\n",
       "    <tr>\n",
       "      <th>...</th>\n",
       "      <td>...</td>\n",
       "      <td>...</td>\n",
       "      <td>...</td>\n",
       "      <td>...</td>\n",
       "      <td>...</td>\n",
       "      <td>...</td>\n",
       "    </tr>\n",
       "    <tr>\n",
       "      <th>18538</th>\n",
       "      <td>2019</td>\n",
       "      <td>Total</td>\n",
       "      <td>Turistas Internacionales</td>\n",
       "      <td>Hizo Actividades De Biciturismo</td>\n",
       "      <td>No</td>\n",
       "      <td>1350956.0</td>\n",
       "    </tr>\n",
       "    <tr>\n",
       "      <th>18539</th>\n",
       "      <td>2019</td>\n",
       "      <td>Total</td>\n",
       "      <td>Turistas Internacionales</td>\n",
       "      <td>Hizo Actividades De Biciturismo</td>\n",
       "      <td>Ns/Nr</td>\n",
       "      <td>13458.0</td>\n",
       "    </tr>\n",
       "    <tr>\n",
       "      <th>18540</th>\n",
       "      <td>2019</td>\n",
       "      <td>Total</td>\n",
       "      <td>Turistas Nacionales</td>\n",
       "      <td>Hizo Actividades De Biciturismo</td>\n",
       "      <td>Sí</td>\n",
       "      <td>83720.0</td>\n",
       "    </tr>\n",
       "    <tr>\n",
       "      <th>18541</th>\n",
       "      <td>2019</td>\n",
       "      <td>Total</td>\n",
       "      <td>Turistas Nacionales</td>\n",
       "      <td>Hizo Actividades De Biciturismo</td>\n",
       "      <td>No</td>\n",
       "      <td>6823726.0</td>\n",
       "    </tr>\n",
       "    <tr>\n",
       "      <th>18542</th>\n",
       "      <td>2019</td>\n",
       "      <td>Total</td>\n",
       "      <td>Turistas Nacionales</td>\n",
       "      <td>Hizo Actividades De Biciturismo</td>\n",
       "      <td>Ns/Nr</td>\n",
       "      <td>36987.0</td>\n",
       "    </tr>\n",
       "  </tbody>\n",
       "</table>\n",
       "<p>18543 rows × 6 columns</p>\n",
       "</div>"
      ],
      "text/plain": [
       "        Año      Mes                      Tema  \\\n",
       "0      2010    Enero         Flujos turísticos   \n",
       "1      2010  Febrero         Flujos turísticos   \n",
       "2      2010    Marzo         Flujos turísticos   \n",
       "3      2010    Abril         Flujos turísticos   \n",
       "4      2010     Mayo         Flujos turísticos   \n",
       "...     ...      ...                       ...   \n",
       "18538  2019    Total  Turistas Internacionales   \n",
       "18539  2019    Total  Turistas Internacionales   \n",
       "18540  2019    Total       Turistas Nacionales   \n",
       "18541  2019    Total       Turistas Nacionales   \n",
       "18542  2019    Total       Turistas Nacionales   \n",
       "\n",
       "                               Subtema      item   Viajeros  \n",
       "0                              Totales  Viajeros  4851288.0  \n",
       "1                              Totales  Viajeros  3374830.0  \n",
       "2                              Totales  Viajeros  4082275.0  \n",
       "3                              Totales  Viajeros  3865644.0  \n",
       "4                              Totales  Viajeros  4019998.0  \n",
       "...                                ...       ...        ...  \n",
       "18538  Hizo Actividades De Biciturismo        No  1350956.0  \n",
       "18539  Hizo Actividades De Biciturismo     Ns/Nr    13458.0  \n",
       "18540  Hizo Actividades De Biciturismo        Sí    83720.0  \n",
       "18541  Hizo Actividades De Biciturismo        No  6823726.0  \n",
       "18542  Hizo Actividades De Biciturismo     Ns/Nr    36987.0  \n",
       "\n",
       "[18543 rows x 6 columns]"
      ]
     },
     "execution_count": 6,
     "metadata": {},
     "output_type": "execute_result"
    }
   ],
   "source": [
    "\n",
    "# Load a file as a DataFrame and assign to the variable name D\n",
    "db_travelers= pd.read_excel(path_url_db1)\n",
    "db_travelers"
   ]
  },
  {
   "cell_type": "markdown",
   "metadata": {
    "id": "99622q3COvA5"
   },
   "source": [
    "## Flujos Turisticos"
   ]
  },
  {
   "cell_type": "code",
   "execution_count": 7,
   "metadata": {
    "id": "457482d9"
   },
   "outputs": [],
   "source": [
    "db_flujosTur=db_travelers[db_travelers[\"Tema\"]==\"Flujos turísticos\"]"
   ]
  },
  {
   "cell_type": "code",
   "execution_count": 8,
   "metadata": {
    "colab": {
     "base_uri": "https://localhost:8080/"
    },
    "id": "InU4oj25Y4IK",
    "outputId": "321124e9-f3b0-442c-cfe1-f3405f6e874f"
   },
   "outputs": [
    {
     "name": "stdout",
     "output_type": "stream",
     "text": [
      "<class 'pandas.core.frame.DataFrame'>\n",
      "Int64Index: 780 entries, 0 to 779\n",
      "Data columns (total 6 columns):\n",
      " #   Column    Non-Null Count  Dtype  \n",
      "---  ------    --------------  -----  \n",
      " 0   Año       780 non-null    int64  \n",
      " 1   Mes       780 non-null    object \n",
      " 2   Tema      780 non-null    object \n",
      " 3   Subtema   780 non-null    object \n",
      " 4   item      780 non-null    object \n",
      " 5   Viajeros  780 non-null    float64\n",
      "dtypes: float64(1), int64(1), object(4)\n",
      "memory usage: 42.7+ KB\n"
     ]
    }
   ],
   "source": [
    "db_flujosTur.info()"
   ]
  },
  {
   "cell_type": "code",
   "execution_count": 9,
   "metadata": {
    "colab": {
     "base_uri": "https://localhost:8080/",
     "height": 419
    },
    "id": "94033627",
    "outputId": "5fc8b7c7-a5db-4974-ac7a-2622665c1290"
   },
   "outputs": [
    {
     "data": {
      "text/html": [
       "<div>\n",
       "<style scoped>\n",
       "    .dataframe tbody tr th:only-of-type {\n",
       "        vertical-align: middle;\n",
       "    }\n",
       "\n",
       "    .dataframe tbody tr th {\n",
       "        vertical-align: top;\n",
       "    }\n",
       "\n",
       "    .dataframe thead th {\n",
       "        text-align: right;\n",
       "    }\n",
       "</style>\n",
       "<table border=\"1\" class=\"dataframe\">\n",
       "  <thead>\n",
       "    <tr style=\"text-align: right;\">\n",
       "      <th></th>\n",
       "      <th>Año</th>\n",
       "      <th>Mes</th>\n",
       "      <th>Tema</th>\n",
       "      <th>Subtema</th>\n",
       "      <th>item</th>\n",
       "      <th>Viajeros</th>\n",
       "    </tr>\n",
       "  </thead>\n",
       "  <tbody>\n",
       "    <tr>\n",
       "      <th>0</th>\n",
       "      <td>2010</td>\n",
       "      <td>Enero</td>\n",
       "      <td>Flujos turísticos</td>\n",
       "      <td>Totales</td>\n",
       "      <td>Viajeros</td>\n",
       "      <td>4.851288e+06</td>\n",
       "    </tr>\n",
       "    <tr>\n",
       "      <th>1</th>\n",
       "      <td>2010</td>\n",
       "      <td>Febrero</td>\n",
       "      <td>Flujos turísticos</td>\n",
       "      <td>Totales</td>\n",
       "      <td>Viajeros</td>\n",
       "      <td>3.374830e+06</td>\n",
       "    </tr>\n",
       "    <tr>\n",
       "      <th>2</th>\n",
       "      <td>2010</td>\n",
       "      <td>Marzo</td>\n",
       "      <td>Flujos turísticos</td>\n",
       "      <td>Totales</td>\n",
       "      <td>Viajeros</td>\n",
       "      <td>4.082275e+06</td>\n",
       "    </tr>\n",
       "    <tr>\n",
       "      <th>3</th>\n",
       "      <td>2010</td>\n",
       "      <td>Abril</td>\n",
       "      <td>Flujos turísticos</td>\n",
       "      <td>Totales</td>\n",
       "      <td>Viajeros</td>\n",
       "      <td>3.865644e+06</td>\n",
       "    </tr>\n",
       "    <tr>\n",
       "      <th>4</th>\n",
       "      <td>2010</td>\n",
       "      <td>Mayo</td>\n",
       "      <td>Flujos turísticos</td>\n",
       "      <td>Totales</td>\n",
       "      <td>Viajeros</td>\n",
       "      <td>4.019998e+06</td>\n",
       "    </tr>\n",
       "    <tr>\n",
       "      <th>...</th>\n",
       "      <td>...</td>\n",
       "      <td>...</td>\n",
       "      <td>...</td>\n",
       "      <td>...</td>\n",
       "      <td>...</td>\n",
       "      <td>...</td>\n",
       "    </tr>\n",
       "    <tr>\n",
       "      <th>775</th>\n",
       "      <td>2019</td>\n",
       "      <td>Septiembre</td>\n",
       "      <td>Flujos turísticos</td>\n",
       "      <td>Turismo Receptivo</td>\n",
       "      <td>Turistas Internacionales</td>\n",
       "      <td>1.725780e+05</td>\n",
       "    </tr>\n",
       "    <tr>\n",
       "      <th>776</th>\n",
       "      <td>2019</td>\n",
       "      <td>Octubre</td>\n",
       "      <td>Flujos turísticos</td>\n",
       "      <td>Turismo Receptivo</td>\n",
       "      <td>Turistas Internacionales</td>\n",
       "      <td>1.583820e+05</td>\n",
       "    </tr>\n",
       "    <tr>\n",
       "      <th>777</th>\n",
       "      <td>2019</td>\n",
       "      <td>Noviembre</td>\n",
       "      <td>Flujos turísticos</td>\n",
       "      <td>Turismo Receptivo</td>\n",
       "      <td>Turistas Internacionales</td>\n",
       "      <td>1.339730e+05</td>\n",
       "    </tr>\n",
       "    <tr>\n",
       "      <th>778</th>\n",
       "      <td>2019</td>\n",
       "      <td>Diciembre</td>\n",
       "      <td>Flujos turísticos</td>\n",
       "      <td>Turismo Receptivo</td>\n",
       "      <td>Turistas Internacionales</td>\n",
       "      <td>1.657960e+05</td>\n",
       "    </tr>\n",
       "    <tr>\n",
       "      <th>779</th>\n",
       "      <td>2019</td>\n",
       "      <td>Total</td>\n",
       "      <td>Flujos turísticos</td>\n",
       "      <td>Turismo Receptivo</td>\n",
       "      <td>Turistas Internacionales</td>\n",
       "      <td>1.904457e+06</td>\n",
       "    </tr>\n",
       "  </tbody>\n",
       "</table>\n",
       "<p>780 rows × 6 columns</p>\n",
       "</div>"
      ],
      "text/plain": [
       "      Año         Mes               Tema            Subtema  \\\n",
       "0    2010       Enero  Flujos turísticos            Totales   \n",
       "1    2010     Febrero  Flujos turísticos            Totales   \n",
       "2    2010       Marzo  Flujos turísticos            Totales   \n",
       "3    2010       Abril  Flujos turísticos            Totales   \n",
       "4    2010        Mayo  Flujos turísticos            Totales   \n",
       "..    ...         ...                ...                ...   \n",
       "775  2019  Septiembre  Flujos turísticos  Turismo Receptivo   \n",
       "776  2019     Octubre  Flujos turísticos  Turismo Receptivo   \n",
       "777  2019   Noviembre  Flujos turísticos  Turismo Receptivo   \n",
       "778  2019   Diciembre  Flujos turísticos  Turismo Receptivo   \n",
       "779  2019       Total  Flujos turísticos  Turismo Receptivo   \n",
       "\n",
       "                         item      Viajeros  \n",
       "0                    Viajeros  4.851288e+06  \n",
       "1                    Viajeros  3.374830e+06  \n",
       "2                    Viajeros  4.082275e+06  \n",
       "3                    Viajeros  3.865644e+06  \n",
       "4                    Viajeros  4.019998e+06  \n",
       "..                        ...           ...  \n",
       "775  Turistas Internacionales  1.725780e+05  \n",
       "776  Turistas Internacionales  1.583820e+05  \n",
       "777  Turistas Internacionales  1.339730e+05  \n",
       "778  Turistas Internacionales  1.657960e+05  \n",
       "779  Turistas Internacionales  1.904457e+06  \n",
       "\n",
       "[780 rows x 6 columns]"
      ]
     },
     "execution_count": 9,
     "metadata": {},
     "output_type": "execute_result"
    }
   ],
   "source": [
    "db_flujosTur"
   ]
  },
  {
   "cell_type": "markdown",
   "metadata": {
    "id": "InI6qgQxO2s-"
   },
   "source": [
    "## Puestos de control"
   ]
  },
  {
   "cell_type": "code",
   "execution_count": 10,
   "metadata": {
    "colab": {
     "base_uri": "https://localhost:8080/"
    },
    "id": "c8e0e231",
    "outputId": "4c7045e4-dd1d-40a6-c07f-22358d16b005"
   },
   "outputs": [
    {
     "name": "stdout",
     "output_type": "stream",
     "text": [
      "<class 'pandas.core.frame.DataFrame'>\n",
      "Int64Index: 1560 entries, 780 to 2339\n",
      "Data columns (total 6 columns):\n",
      " #   Column    Non-Null Count  Dtype  \n",
      "---  ------    --------------  -----  \n",
      " 0   Año       1560 non-null   int64  \n",
      " 1   Mes       1560 non-null   object \n",
      " 2   Tema      1560 non-null   object \n",
      " 3   Subtema   1560 non-null   object \n",
      " 4   item      1560 non-null   object \n",
      " 5   Viajeros  1560 non-null   float64\n",
      "dtypes: float64(1), int64(1), object(4)\n",
      "memory usage: 85.3+ KB\n"
     ]
    }
   ],
   "source": [
    "db_puestoContr=db_travelers[db_travelers[\"Tema\"]==\"Puesto de control\"]\n",
    "db_puestoContr.info()"
   ]
  },
  {
   "cell_type": "code",
   "execution_count": 11,
   "metadata": {
    "colab": {
     "base_uri": "https://localhost:8080/",
     "height": 419
    },
    "id": "bLucNZt9ZCPA",
    "outputId": "fcddacab-99d8-4f81-b043-5bcf1c824cad"
   },
   "outputs": [
    {
     "data": {
      "text/html": [
       "<div>\n",
       "<style scoped>\n",
       "    .dataframe tbody tr th:only-of-type {\n",
       "        vertical-align: middle;\n",
       "    }\n",
       "\n",
       "    .dataframe tbody tr th {\n",
       "        vertical-align: top;\n",
       "    }\n",
       "\n",
       "    .dataframe thead th {\n",
       "        text-align: right;\n",
       "    }\n",
       "</style>\n",
       "<table border=\"1\" class=\"dataframe\">\n",
       "  <thead>\n",
       "    <tr style=\"text-align: right;\">\n",
       "      <th></th>\n",
       "      <th>Año</th>\n",
       "      <th>Mes</th>\n",
       "      <th>Tema</th>\n",
       "      <th>Subtema</th>\n",
       "      <th>item</th>\n",
       "      <th>Viajeros</th>\n",
       "    </tr>\n",
       "  </thead>\n",
       "  <tbody>\n",
       "    <tr>\n",
       "      <th>780</th>\n",
       "      <td>2010</td>\n",
       "      <td>Enero</td>\n",
       "      <td>Puesto de control</td>\n",
       "      <td>Aeropuerto</td>\n",
       "      <td>Residentes</td>\n",
       "      <td>152293.0</td>\n",
       "    </tr>\n",
       "    <tr>\n",
       "      <th>781</th>\n",
       "      <td>2010</td>\n",
       "      <td>Febrero</td>\n",
       "      <td>Puesto de control</td>\n",
       "      <td>Aeropuerto</td>\n",
       "      <td>Residentes</td>\n",
       "      <td>152352.0</td>\n",
       "    </tr>\n",
       "    <tr>\n",
       "      <th>782</th>\n",
       "      <td>2010</td>\n",
       "      <td>Marzo</td>\n",
       "      <td>Puesto de control</td>\n",
       "      <td>Aeropuerto</td>\n",
       "      <td>Residentes</td>\n",
       "      <td>200577.0</td>\n",
       "    </tr>\n",
       "    <tr>\n",
       "      <th>783</th>\n",
       "      <td>2010</td>\n",
       "      <td>Abril</td>\n",
       "      <td>Puesto de control</td>\n",
       "      <td>Aeropuerto</td>\n",
       "      <td>Residentes</td>\n",
       "      <td>169048.0</td>\n",
       "    </tr>\n",
       "    <tr>\n",
       "      <th>784</th>\n",
       "      <td>2010</td>\n",
       "      <td>Mayo</td>\n",
       "      <td>Puesto de control</td>\n",
       "      <td>Aeropuerto</td>\n",
       "      <td>Residentes</td>\n",
       "      <td>196034.0</td>\n",
       "    </tr>\n",
       "    <tr>\n",
       "      <th>...</th>\n",
       "      <td>...</td>\n",
       "      <td>...</td>\n",
       "      <td>...</td>\n",
       "      <td>...</td>\n",
       "      <td>...</td>\n",
       "      <td>...</td>\n",
       "    </tr>\n",
       "    <tr>\n",
       "      <th>2335</th>\n",
       "      <td>2019</td>\n",
       "      <td>Septiembre</td>\n",
       "      <td>Puesto de control</td>\n",
       "      <td>Terminal</td>\n",
       "      <td>Turistas Internacionales</td>\n",
       "      <td>5541.0</td>\n",
       "    </tr>\n",
       "    <tr>\n",
       "      <th>2336</th>\n",
       "      <td>2019</td>\n",
       "      <td>Octubre</td>\n",
       "      <td>Puesto de control</td>\n",
       "      <td>Terminal</td>\n",
       "      <td>Turistas Internacionales</td>\n",
       "      <td>27377.0</td>\n",
       "    </tr>\n",
       "    <tr>\n",
       "      <th>2337</th>\n",
       "      <td>2019</td>\n",
       "      <td>Noviembre</td>\n",
       "      <td>Puesto de control</td>\n",
       "      <td>Terminal</td>\n",
       "      <td>Turistas Internacionales</td>\n",
       "      <td>12153.0</td>\n",
       "    </tr>\n",
       "    <tr>\n",
       "      <th>2338</th>\n",
       "      <td>2019</td>\n",
       "      <td>Diciembre</td>\n",
       "      <td>Puesto de control</td>\n",
       "      <td>Terminal</td>\n",
       "      <td>Turistas Internacionales</td>\n",
       "      <td>18634.0</td>\n",
       "    </tr>\n",
       "    <tr>\n",
       "      <th>2339</th>\n",
       "      <td>2019</td>\n",
       "      <td>Total</td>\n",
       "      <td>Puesto de control</td>\n",
       "      <td>Terminal</td>\n",
       "      <td>Turistas Internacionales</td>\n",
       "      <td>279302.0</td>\n",
       "    </tr>\n",
       "  </tbody>\n",
       "</table>\n",
       "<p>1560 rows × 6 columns</p>\n",
       "</div>"
      ],
      "text/plain": [
       "       Año         Mes               Tema     Subtema  \\\n",
       "780   2010       Enero  Puesto de control  Aeropuerto   \n",
       "781   2010     Febrero  Puesto de control  Aeropuerto   \n",
       "782   2010       Marzo  Puesto de control  Aeropuerto   \n",
       "783   2010       Abril  Puesto de control  Aeropuerto   \n",
       "784   2010        Mayo  Puesto de control  Aeropuerto   \n",
       "...    ...         ...                ...         ...   \n",
       "2335  2019  Septiembre  Puesto de control    Terminal   \n",
       "2336  2019     Octubre  Puesto de control    Terminal   \n",
       "2337  2019   Noviembre  Puesto de control    Terminal   \n",
       "2338  2019   Diciembre  Puesto de control    Terminal   \n",
       "2339  2019       Total  Puesto de control    Terminal   \n",
       "\n",
       "                          item  Viajeros  \n",
       "780                 Residentes  152293.0  \n",
       "781                 Residentes  152352.0  \n",
       "782                 Residentes  200577.0  \n",
       "783                 Residentes  169048.0  \n",
       "784                 Residentes  196034.0  \n",
       "...                        ...       ...  \n",
       "2335  Turistas Internacionales    5541.0  \n",
       "2336  Turistas Internacionales   27377.0  \n",
       "2337  Turistas Internacionales   12153.0  \n",
       "2338  Turistas Internacionales   18634.0  \n",
       "2339  Turistas Internacionales  279302.0  \n",
       "\n",
       "[1560 rows x 6 columns]"
      ]
     },
     "execution_count": 11,
     "metadata": {},
     "output_type": "execute_result"
    }
   ],
   "source": [
    "db_puestoContr"
   ]
  },
  {
   "cell_type": "markdown",
   "metadata": {
    "id": "EjL1PrIqOh6R"
   },
   "source": [
    "##International Tourists"
   ]
  },
  {
   "cell_type": "code",
   "execution_count": 12,
   "metadata": {
    "colab": {
     "base_uri": "https://localhost:8080/"
    },
    "id": "exkX6ebVZHXA",
    "outputId": "255b1298-c0b7-4ccb-8a65-7b8634b23406"
   },
   "outputs": [
    {
     "name": "stdout",
     "output_type": "stream",
     "text": [
      "<class 'pandas.core.frame.DataFrame'>\n",
      "Int64Index: 8940 entries, 2808 to 18539\n",
      "Data columns (total 6 columns):\n",
      " #   Column    Non-Null Count  Dtype  \n",
      "---  ------    --------------  -----  \n",
      " 0   Año       8940 non-null   int64  \n",
      " 1   Mes       8940 non-null   object \n",
      " 2   Tema      8940 non-null   object \n",
      " 3   Subtema   8940 non-null   object \n",
      " 4   item      8940 non-null   object \n",
      " 5   Viajeros  7853 non-null   float64\n",
      "dtypes: float64(1), int64(1), object(4)\n",
      "memory usage: 488.9+ KB\n"
     ]
    }
   ],
   "source": [
    "db_turistaInal=db_travelers[db_travelers[\"Tema\"]==\"Turistas Internacionales\"]\n",
    "db_turistaInal.info()"
   ]
  },
  {
   "cell_type": "code",
   "execution_count": 13,
   "metadata": {
    "colab": {
     "base_uri": "https://localhost:8080/",
     "height": 419
    },
    "id": "gsoC1_EYZNLm",
    "outputId": "eeda0e92-d569-49b7-d074-0bffad0e05a8"
   },
   "outputs": [
    {
     "data": {
      "text/html": [
       "<div>\n",
       "<style scoped>\n",
       "    .dataframe tbody tr th:only-of-type {\n",
       "        vertical-align: middle;\n",
       "    }\n",
       "\n",
       "    .dataframe tbody tr th {\n",
       "        vertical-align: top;\n",
       "    }\n",
       "\n",
       "    .dataframe thead th {\n",
       "        text-align: right;\n",
       "    }\n",
       "</style>\n",
       "<table border=\"1\" class=\"dataframe\">\n",
       "  <thead>\n",
       "    <tr style=\"text-align: right;\">\n",
       "      <th></th>\n",
       "      <th>Año</th>\n",
       "      <th>Mes</th>\n",
       "      <th>Tema</th>\n",
       "      <th>Subtema</th>\n",
       "      <th>item</th>\n",
       "      <th>Viajeros</th>\n",
       "    </tr>\n",
       "  </thead>\n",
       "  <tbody>\n",
       "    <tr>\n",
       "      <th>2808</th>\n",
       "      <td>2010</td>\n",
       "      <td>Enero</td>\n",
       "      <td>Turistas Internacionales</td>\n",
       "      <td>Motivo de Viaje</td>\n",
       "      <td>Asistencia a eventos</td>\n",
       "      <td>1729.0</td>\n",
       "    </tr>\n",
       "    <tr>\n",
       "      <th>2809</th>\n",
       "      <td>2010</td>\n",
       "      <td>Febrero</td>\n",
       "      <td>Turistas Internacionales</td>\n",
       "      <td>Motivo de Viaje</td>\n",
       "      <td>Asistencia a eventos</td>\n",
       "      <td>5151.0</td>\n",
       "    </tr>\n",
       "    <tr>\n",
       "      <th>2810</th>\n",
       "      <td>2010</td>\n",
       "      <td>Marzo</td>\n",
       "      <td>Turistas Internacionales</td>\n",
       "      <td>Motivo de Viaje</td>\n",
       "      <td>Asistencia a eventos</td>\n",
       "      <td>4954.0</td>\n",
       "    </tr>\n",
       "    <tr>\n",
       "      <th>2811</th>\n",
       "      <td>2010</td>\n",
       "      <td>Abril</td>\n",
       "      <td>Turistas Internacionales</td>\n",
       "      <td>Motivo de Viaje</td>\n",
       "      <td>Asistencia a eventos</td>\n",
       "      <td>2133.0</td>\n",
       "    </tr>\n",
       "    <tr>\n",
       "      <th>2812</th>\n",
       "      <td>2010</td>\n",
       "      <td>Mayo</td>\n",
       "      <td>Turistas Internacionales</td>\n",
       "      <td>Motivo de Viaje</td>\n",
       "      <td>Asistencia a eventos</td>\n",
       "      <td>3367.0</td>\n",
       "    </tr>\n",
       "    <tr>\n",
       "      <th>...</th>\n",
       "      <td>...</td>\n",
       "      <td>...</td>\n",
       "      <td>...</td>\n",
       "      <td>...</td>\n",
       "      <td>...</td>\n",
       "      <td>...</td>\n",
       "    </tr>\n",
       "    <tr>\n",
       "      <th>18532</th>\n",
       "      <td>2019</td>\n",
       "      <td>Total</td>\n",
       "      <td>Turistas Internacionales</td>\n",
       "      <td>Hizo Actividades De Aviturismo</td>\n",
       "      <td>No</td>\n",
       "      <td>1390655.0</td>\n",
       "    </tr>\n",
       "    <tr>\n",
       "      <th>18533</th>\n",
       "      <td>2019</td>\n",
       "      <td>Total</td>\n",
       "      <td>Turistas Internacionales</td>\n",
       "      <td>Hizo Actividades De Aviturismo</td>\n",
       "      <td>Ns/Nr</td>\n",
       "      <td>12520.0</td>\n",
       "    </tr>\n",
       "    <tr>\n",
       "      <th>18537</th>\n",
       "      <td>2019</td>\n",
       "      <td>Total</td>\n",
       "      <td>Turistas Internacionales</td>\n",
       "      <td>Hizo Actividades De Biciturismo</td>\n",
       "      <td>Sí</td>\n",
       "      <td>55955.0</td>\n",
       "    </tr>\n",
       "    <tr>\n",
       "      <th>18538</th>\n",
       "      <td>2019</td>\n",
       "      <td>Total</td>\n",
       "      <td>Turistas Internacionales</td>\n",
       "      <td>Hizo Actividades De Biciturismo</td>\n",
       "      <td>No</td>\n",
       "      <td>1350956.0</td>\n",
       "    </tr>\n",
       "    <tr>\n",
       "      <th>18539</th>\n",
       "      <td>2019</td>\n",
       "      <td>Total</td>\n",
       "      <td>Turistas Internacionales</td>\n",
       "      <td>Hizo Actividades De Biciturismo</td>\n",
       "      <td>Ns/Nr</td>\n",
       "      <td>13458.0</td>\n",
       "    </tr>\n",
       "  </tbody>\n",
       "</table>\n",
       "<p>8940 rows × 6 columns</p>\n",
       "</div>"
      ],
      "text/plain": [
       "        Año      Mes                      Tema  \\\n",
       "2808   2010    Enero  Turistas Internacionales   \n",
       "2809   2010  Febrero  Turistas Internacionales   \n",
       "2810   2010    Marzo  Turistas Internacionales   \n",
       "2811   2010    Abril  Turistas Internacionales   \n",
       "2812   2010     Mayo  Turistas Internacionales   \n",
       "...     ...      ...                       ...   \n",
       "18532  2019    Total  Turistas Internacionales   \n",
       "18533  2019    Total  Turistas Internacionales   \n",
       "18537  2019    Total  Turistas Internacionales   \n",
       "18538  2019    Total  Turistas Internacionales   \n",
       "18539  2019    Total  Turistas Internacionales   \n",
       "\n",
       "                               Subtema                  item   Viajeros  \n",
       "2808                   Motivo de Viaje  Asistencia a eventos     1729.0  \n",
       "2809                   Motivo de Viaje  Asistencia a eventos     5151.0  \n",
       "2810                   Motivo de Viaje  Asistencia a eventos     4954.0  \n",
       "2811                   Motivo de Viaje  Asistencia a eventos     2133.0  \n",
       "2812                   Motivo de Viaje  Asistencia a eventos     3367.0  \n",
       "...                                ...                   ...        ...  \n",
       "18532   Hizo Actividades De Aviturismo                    No  1390655.0  \n",
       "18533   Hizo Actividades De Aviturismo                 Ns/Nr    12520.0  \n",
       "18537  Hizo Actividades De Biciturismo                    Sí    55955.0  \n",
       "18538  Hizo Actividades De Biciturismo                    No  1350956.0  \n",
       "18539  Hizo Actividades De Biciturismo                 Ns/Nr    13458.0  \n",
       "\n",
       "[8940 rows x 6 columns]"
      ]
     },
     "execution_count": 13,
     "metadata": {},
     "output_type": "execute_result"
    }
   ],
   "source": [
    "db_turistaInal"
   ]
  },
  {
   "cell_type": "code",
   "execution_count": 14,
   "metadata": {
    "id": "cy8ajBdDgeVC"
   },
   "outputs": [],
   "source": [
    "db_turistaInal_Total = db_turistaInal[(db_turistaInal['Mes']=='Total') & \n",
    "                                      (db_turistaInal['Subtema'] == 'Distribución del Gasto')][['Año','item','Viajeros']]\n",
    "#db_turistaNal_Total = db_turistaNal[(db_turistaNal['Mes']=='Total') &\n",
    "#                                     (db_turistaNal['Subtema'] == 'Distribución del Gasto')][['Año','item','Viajeros']]\n",
    "\n",
    "# db_turistaNal_Total\n",
    "# db_turistaNal_Total,db_turistaInal_Total\n",
    "# db_turistaInal_Total\n",
    "# f, ax = plt.subplots(figsize=(14, 8))\n",
    "# (db_turistaInal_Total).plot.bar()"
   ]
  },
  {
   "cell_type": "code",
   "execution_count": 15,
   "metadata": {
    "colab": {
     "base_uri": "https://localhost:8080/",
     "height": 290
    },
    "id": "JLZS9RgSI_K5",
    "outputId": "004707dd-4d64-4d25-93a7-74aeb0ea07d0"
   },
   "outputs": [
    {
     "data": {
      "image/png": "[encoded data removed]",
      "text/plain": [
       "<Figure size 432x288 with 1 Axes>"
      ]
     },
     "metadata": {
      "needs_background": "light"
     },
     "output_type": "display_data"
    }
   ],
   "source": [
    "db_turista_Atract=db_travelers[((db_travelers[\"Tema\"]==\"Turistas Internacionales\") | \n",
    "                                (db_travelers[\"Tema\"]==\"Turistas Nacionales\")) & \n",
    "                               (db_travelers['Subtema'] == 'Atractivos Visitados por el Turista')][['Tema','item','Viajeros']]\n",
    "# db_turista_Atract.sum('Viajeros')\n",
    "ax = sns.barplot(x=\"Tema\", y=\"Viajeros\", hue=\"item\", data=db_turista_Atract)\n",
    "\n",
    "# prueba = pd.pivot_table(db_turista_Atract,index=[\"item\"],values=[\"Viajeros\"],\n",
    "#                columns=[\"Tema\"],aggfunc=[np.sum])\n",
    "# prueba=pd.DataFrame(prueba)\n",
    "# prueba.columns\n",
    "# prueba= prueba.set_axis(['Turistas Internacionales','Turistas Nacionales'], axis=1)\n",
    "# prueba['item'] = prueba.index\n",
    "\n",
    "# tidy = df.melt(id_vars='Factor').rename(columns=str.title)\n",
    "\n",
    "# tidy = prueba.melt(id_vars='item').rename(columns=str.title)\n",
    "# sns.barplot(x='Turistas Internacionales', y='Turistas Nacionales', hue='item', data=prueba, ax=ax1)\n",
    "# sns.despine(fig)\n"
   ]
  },
  {
   "cell_type": "code",
   "execution_count": 16,
   "metadata": {
    "colab": {
     "base_uri": "https://localhost:8080/",
     "height": 232
    },
    "id": "Hju2zDfdcMmJ",
    "outputId": "8176f850-a00d-47f6-fe4a-11a12f996205"
   },
   "outputs": [
    {
     "ename": "NameError",
     "evalue": "name 'px' is not defined",
     "output_type": "error",
     "traceback": [
      "\u001b[0;31m---------------------------------------------------------------------------\u001b[0m",
      "\u001b[0;31mNameError\u001b[0m                                 Traceback (most recent call last)",
      "\u001b[0;32m<ipython-input-16-bff1781b1e27>\u001b[0m in \u001b[0;36m<module>\u001b[0;34m\u001b[0m\n\u001b[1;32m      1\u001b[0m \u001b[0mmonths\u001b[0m \u001b[0;34m=\u001b[0m \u001b[0;34m[\u001b[0m\u001b[0;34m'Turistas Internacionales'\u001b[0m\u001b[0;34m,\u001b[0m\u001b[0;34m'Turistas Nacionales'\u001b[0m\u001b[0;34m]\u001b[0m\u001b[0;34m\u001b[0m\u001b[0;34m\u001b[0m\u001b[0m\n\u001b[1;32m      2\u001b[0m \u001b[0;34m\u001b[0m\u001b[0m\n\u001b[0;32m----> 3\u001b[0;31m \u001b[0mfig\u001b[0m \u001b[0;34m=\u001b[0m \u001b[0mpx\u001b[0m\u001b[0;34m.\u001b[0m\u001b[0mFigure\u001b[0m\u001b[0;34m(\u001b[0m\u001b[0;34m)\u001b[0m\u001b[0;34m;\u001b[0m\u001b[0;34m\u001b[0m\u001b[0;34m\u001b[0m\u001b[0m\n\u001b[0m\u001b[1;32m      4\u001b[0m fig.add_trace(px.Bar(\n\u001b[1;32m      5\u001b[0m     \u001b[0mx\u001b[0m\u001b[0;34m=\u001b[0m\u001b[0mmonths\u001b[0m\u001b[0;34m,\u001b[0m\u001b[0;34m\u001b[0m\u001b[0;34m\u001b[0m\u001b[0m\n",
      "\u001b[0;31mNameError\u001b[0m: name 'px' is not defined"
     ]
    }
   ],
   "source": [
    "months = ['Turistas Internacionales','Turistas Nacionales']\n",
    "\n",
    "fig = px.Figure();\n",
    "fig.add_trace(px.Bar(\n",
    "    x=months,\n",
    "    y=db_turista_Atract['Viajeros'],\n",
    "    name='Primary Product',\n",
    "    marker_color='indianred'\n",
    "))\n",
    "fig.add_trace(px.Bar(\n",
    "    x=months,\n",
    "    y=db_turista_Atract['Viajeros'],\n",
    "    name='Secondary Product',\n",
    "    marker_color='lightsalmon'\n",
    "))\n",
    "\n",
    "# Here we modify the tickangle of the xaxis, resulting in rotated labels.\n",
    "fig.update_layout(barmode='group', xaxis_tickangle=-45)\n",
    "fig.show()"
   ]
  },
  {
   "cell_type": "markdown",
   "metadata": {
    "id": "KB7fmgJha_lg"
   },
   "source": [
    "## National Tourists"
   ]
  },
  {
   "cell_type": "markdown",
   "metadata": {
    "id": "5knnzByvEw_S"
   },
   "source": [
    "Bases de datos turistas nacionales:\n",
    "\n",
    "**db_turistaNal** esta es la base de datos completa de los turistas nacionales \n",
    "\n",
    "**df_motViajeTNa**l esta es la tabla de los motivos de viaje de los turistas nacionales **[Año] [Mes] [item] [Viajeros]**item es el motivo y Viajeros es el numero de viajeros por motivo.\n",
    "\n",
    "**df_atractivosTNal** esta es la tabla de los atractivos turisticos visitados por los turistas nacionales **[Año] [Mes] [item] [Viajeros]**item es el atractivo y Viajeros es el numero de viajeros por atractivo turistico por año\n",
    "\n",
    "**df_distGastoTNal** esta es la tabla de la distribucion de gasto de los turistas nacionales **[Año] [item] [Viajeros]**item es el tipo de gasto y Viajeros es el total gasto en dolares por tipo por año\n",
    "\n",
    "\n",
    "**df_distEtariaTNal** esta es la tabla de la distribucion etaria de los turistas nacionales **[Año] [Mes] [item] [Viajeros]**item el grupo de edad y Viajeros es número de viajeros por grupo\n",
    "\n",
    "**df_gastoTNal** esta es la tabla del gastos total (dolares) de los turistas nacionales en Bogota **[Año] [Viajeros]** Viajeros es el gasto total de los viajeros en Bootá por año\n",
    "\n",
    "**df_gastoTNal** esta es la tabla del gasto per capita (dolares) de los turistas nacionales en Bogota **[Año] [Viajeros] **Viajeros es el gasto per capita de los viajeros en Bogotá por año\n",
    "\n",
    "**df_generoTNal** esta es la tabla con el genero de los turistas nacionales **[Año] [Mes] [Viajeros]** Viajeros es el número de mujeres-hombres-Ns/Nr que visitan Bootá\n",
    "\n",
    " **df_grupViajeTNal** esta es la tabla con el grupo de viaje de los turistas nacionales **[Año] [Viajeros]** Viajeros es el número de turistas por tipo de grupo de viaje (ej. solo,familia,etc) por año\n",
    "\n",
    "**df_actTurismoTNal** esta es la tabla de las actividades de turismo de los turistas nacionales **[Año] [item] [Subtema] [Viajeros]**item es si ha realizado la actividad (Si, No, Nr/Ns), Subtema es e tipo de actividad (Hizo Actividades De Biciturismo, Hizo Actividades De Ecoturismo, Hizo Actividades De Aviturismo) y Viajeros es el total gasto en dolares por tipo por año\n",
    "\n",
    "**df_alojamientoTNal** esta es la tabla que tiene el lugar de alojamiento de los turistas nacionales **[Año] [Mes] [item] [Viajeros]** item es el tipo de alojamiento, Viajeros es el número de viajeros que se alojan en los distintos tipos de alojamiento\n",
    "\n",
    "\n"
   ]
  },
  {
   "cell_type": "code",
   "execution_count": 17,
   "metadata": {
    "colab": {
     "base_uri": "https://localhost:8080/"
    },
    "id": "PjhclBA_bYzK",
    "outputId": "e5c8c903-37e9-47f0-bca8-890ff5841ef0"
   },
   "outputs": [
    {
     "name": "stdout",
     "output_type": "stream",
     "text": [
      "<class 'pandas.core.frame.DataFrame'>\n",
      "Int64Index: 7263 entries, 2340 to 18542\n",
      "Data columns (total 6 columns):\n",
      " #   Column    Non-Null Count  Dtype  \n",
      "---  ------    --------------  -----  \n",
      " 0   Año       7263 non-null   int64  \n",
      " 1   Mes       7263 non-null   object \n",
      " 2   Tema      7263 non-null   object \n",
      " 3   Subtema   7263 non-null   object \n",
      " 4   item      7263 non-null   object \n",
      " 5   Viajeros  6737 non-null   float64\n",
      "dtypes: float64(1), int64(1), object(4)\n",
      "memory usage: 397.2+ KB\n"
     ]
    },
    {
     "data": {
      "text/plain": [
       "Año           0\n",
       "Mes           0\n",
       "Tema          0\n",
       "Subtema       0\n",
       "item          0\n",
       "Viajeros    526\n",
       "dtype: int64"
      ]
     },
     "execution_count": 17,
     "metadata": {},
     "output_type": "execute_result"
    }
   ],
   "source": [
    "db_turistaNal=db_travelers[db_travelers[\"Tema\"]==\"Turistas Nacionales\"]\n",
    "db_turistaNal.info()\n",
    "\n",
    "# total nan or missing values in each columns\n",
    "db_turistaNal.isna().sum()"
   ]
  },
  {
   "cell_type": "code",
   "execution_count": 18,
   "metadata": {
    "colab": {
     "base_uri": "https://localhost:8080/",
     "height": 204
    },
    "id": "54_H2_5kbdrn",
    "outputId": "86bc5b52-ffec-44b5-fa74-3bb70641c902"
   },
   "outputs": [
    {
     "data": {
      "text/html": [
       "<div>\n",
       "<style scoped>\n",
       "    .dataframe tbody tr th:only-of-type {\n",
       "        vertical-align: middle;\n",
       "    }\n",
       "\n",
       "    .dataframe tbody tr th {\n",
       "        vertical-align: top;\n",
       "    }\n",
       "\n",
       "    .dataframe thead th {\n",
       "        text-align: right;\n",
       "    }\n",
       "</style>\n",
       "<table border=\"1\" class=\"dataframe\">\n",
       "  <thead>\n",
       "    <tr style=\"text-align: right;\">\n",
       "      <th></th>\n",
       "      <th>Año</th>\n",
       "      <th>Mes</th>\n",
       "      <th>Tema</th>\n",
       "      <th>Subtema</th>\n",
       "      <th>item</th>\n",
       "      <th>Viajeros</th>\n",
       "    </tr>\n",
       "  </thead>\n",
       "  <tbody>\n",
       "    <tr>\n",
       "      <th>2340</th>\n",
       "      <td>2010</td>\n",
       "      <td>Enero</td>\n",
       "      <td>Turistas Nacionales</td>\n",
       "      <td>Motivo de Viaje</td>\n",
       "      <td>Asistencia a eventos</td>\n",
       "      <td>5252.0</td>\n",
       "    </tr>\n",
       "    <tr>\n",
       "      <th>2341</th>\n",
       "      <td>2010</td>\n",
       "      <td>Febrero</td>\n",
       "      <td>Turistas Nacionales</td>\n",
       "      <td>Motivo de Viaje</td>\n",
       "      <td>Asistencia a eventos</td>\n",
       "      <td>11382.0</td>\n",
       "    </tr>\n",
       "    <tr>\n",
       "      <th>2342</th>\n",
       "      <td>2010</td>\n",
       "      <td>Marzo</td>\n",
       "      <td>Turistas Nacionales</td>\n",
       "      <td>Motivo de Viaje</td>\n",
       "      <td>Asistencia a eventos</td>\n",
       "      <td>19247.0</td>\n",
       "    </tr>\n",
       "    <tr>\n",
       "      <th>2343</th>\n",
       "      <td>2010</td>\n",
       "      <td>Abril</td>\n",
       "      <td>Turistas Nacionales</td>\n",
       "      <td>Motivo de Viaje</td>\n",
       "      <td>Asistencia a eventos</td>\n",
       "      <td>11694.0</td>\n",
       "    </tr>\n",
       "    <tr>\n",
       "      <th>2344</th>\n",
       "      <td>2010</td>\n",
       "      <td>Mayo</td>\n",
       "      <td>Turistas Nacionales</td>\n",
       "      <td>Motivo de Viaje</td>\n",
       "      <td>Asistencia a eventos</td>\n",
       "      <td>15912.0</td>\n",
       "    </tr>\n",
       "  </tbody>\n",
       "</table>\n",
       "</div>"
      ],
      "text/plain": [
       "       Año      Mes                 Tema          Subtema  \\\n",
       "2340  2010    Enero  Turistas Nacionales  Motivo de Viaje   \n",
       "2341  2010  Febrero  Turistas Nacionales  Motivo de Viaje   \n",
       "2342  2010    Marzo  Turistas Nacionales  Motivo de Viaje   \n",
       "2343  2010    Abril  Turistas Nacionales  Motivo de Viaje   \n",
       "2344  2010     Mayo  Turistas Nacionales  Motivo de Viaje   \n",
       "\n",
       "                      item  Viajeros  \n",
       "2340  Asistencia a eventos    5252.0  \n",
       "2341  Asistencia a eventos   11382.0  \n",
       "2342  Asistencia a eventos   19247.0  \n",
       "2343  Asistencia a eventos   11694.0  \n",
       "2344  Asistencia a eventos   15912.0  "
      ]
     },
     "execution_count": 18,
     "metadata": {},
     "output_type": "execute_result"
    }
   ],
   "source": [
    "# removing rows with nan or missing values\n",
    "db_turistaNal = db_turistaNal.dropna()\n",
    "db_turistaNal.isna().sum()\n",
    "db_turistaNal.head()"
   ]
  },
  {
   "cell_type": "code",
   "execution_count": 19,
   "metadata": {
    "colab": {
     "base_uri": "https://localhost:8080/",
     "height": 640
    },
    "id": "l_zZYBLzbhx7",
    "outputId": "aa32271b-0958-4ab6-e514-4eebf9ddd26e"
   },
   "outputs": [
    {
     "name": "stdout",
     "output_type": "stream",
     "text": [
      "<class 'pandas.core.frame.DataFrame'>\n",
      "Int64Index: 936 entries, 2340 to 3743\n",
      "Data columns (total 6 columns):\n",
      " #   Column    Non-Null Count  Dtype  \n",
      "---  ------    --------------  -----  \n",
      " 0   Año       936 non-null    int64  \n",
      " 1   Mes       936 non-null    object \n",
      " 2   Tema      936 non-null    object \n",
      " 3   Subtema   936 non-null    object \n",
      " 4   item      936 non-null    object \n",
      " 5   Viajeros  936 non-null    float64\n",
      "dtypes: float64(1), int64(1), object(4)\n",
      "memory usage: 51.2+ KB\n"
     ]
    },
    {
     "data": {
      "text/html": [
       "<div>\n",
       "<style scoped>\n",
       "    .dataframe tbody tr th:only-of-type {\n",
       "        vertical-align: middle;\n",
       "    }\n",
       "\n",
       "    .dataframe tbody tr th {\n",
       "        vertical-align: top;\n",
       "    }\n",
       "\n",
       "    .dataframe thead th {\n",
       "        text-align: right;\n",
       "    }\n",
       "</style>\n",
       "<table border=\"1\" class=\"dataframe\">\n",
       "  <thead>\n",
       "    <tr style=\"text-align: right;\">\n",
       "      <th></th>\n",
       "      <th>Año</th>\n",
       "      <th>Mes</th>\n",
       "      <th>item</th>\n",
       "      <th>Viajeros</th>\n",
       "    </tr>\n",
       "  </thead>\n",
       "  <tbody>\n",
       "    <tr>\n",
       "      <th>2340</th>\n",
       "      <td>2010</td>\n",
       "      <td>Enero</td>\n",
       "      <td>Asistencia a eventos</td>\n",
       "      <td>5252.0</td>\n",
       "    </tr>\n",
       "    <tr>\n",
       "      <th>2341</th>\n",
       "      <td>2010</td>\n",
       "      <td>Febrero</td>\n",
       "      <td>Asistencia a eventos</td>\n",
       "      <td>11382.0</td>\n",
       "    </tr>\n",
       "    <tr>\n",
       "      <th>2342</th>\n",
       "      <td>2010</td>\n",
       "      <td>Marzo</td>\n",
       "      <td>Asistencia a eventos</td>\n",
       "      <td>19247.0</td>\n",
       "    </tr>\n",
       "    <tr>\n",
       "      <th>2343</th>\n",
       "      <td>2010</td>\n",
       "      <td>Abril</td>\n",
       "      <td>Asistencia a eventos</td>\n",
       "      <td>11694.0</td>\n",
       "    </tr>\n",
       "    <tr>\n",
       "      <th>2344</th>\n",
       "      <td>2010</td>\n",
       "      <td>Mayo</td>\n",
       "      <td>Asistencia a eventos</td>\n",
       "      <td>15912.0</td>\n",
       "    </tr>\n",
       "    <tr>\n",
       "      <th>...</th>\n",
       "      <td>...</td>\n",
       "      <td>...</td>\n",
       "      <td>...</td>\n",
       "      <td>...</td>\n",
       "    </tr>\n",
       "    <tr>\n",
       "      <th>3738</th>\n",
       "      <td>2019</td>\n",
       "      <td>Agosto</td>\n",
       "      <td>Otros motivos</td>\n",
       "      <td>74805.0</td>\n",
       "    </tr>\n",
       "    <tr>\n",
       "      <th>3739</th>\n",
       "      <td>2019</td>\n",
       "      <td>Septiembre</td>\n",
       "      <td>Otros motivos</td>\n",
       "      <td>90249.0</td>\n",
       "    </tr>\n",
       "    <tr>\n",
       "      <th>3740</th>\n",
       "      <td>2019</td>\n",
       "      <td>Octubre</td>\n",
       "      <td>Otros motivos</td>\n",
       "      <td>88659.0</td>\n",
       "    </tr>\n",
       "    <tr>\n",
       "      <th>3741</th>\n",
       "      <td>2019</td>\n",
       "      <td>Noviembre</td>\n",
       "      <td>Otros motivos</td>\n",
       "      <td>86080.0</td>\n",
       "    </tr>\n",
       "    <tr>\n",
       "      <th>3742</th>\n",
       "      <td>2019</td>\n",
       "      <td>Diciembre</td>\n",
       "      <td>Otros motivos</td>\n",
       "      <td>72918.0</td>\n",
       "    </tr>\n",
       "  </tbody>\n",
       "</table>\n",
       "<p>864 rows × 4 columns</p>\n",
       "</div>"
      ],
      "text/plain": [
       "       Año         Mes                  item  Viajeros\n",
       "2340  2010       Enero  Asistencia a eventos    5252.0\n",
       "2341  2010     Febrero  Asistencia a eventos   11382.0\n",
       "2342  2010       Marzo  Asistencia a eventos   19247.0\n",
       "2343  2010       Abril  Asistencia a eventos   11694.0\n",
       "2344  2010        Mayo  Asistencia a eventos   15912.0\n",
       "...    ...         ...                   ...       ...\n",
       "3738  2019      Agosto         Otros motivos   74805.0\n",
       "3739  2019  Septiembre         Otros motivos   90249.0\n",
       "3740  2019     Octubre         Otros motivos   88659.0\n",
       "3741  2019   Noviembre         Otros motivos   86080.0\n",
       "3742  2019   Diciembre         Otros motivos   72918.0\n",
       "\n",
       "[864 rows x 4 columns]"
      ]
     },
     "execution_count": 19,
     "metadata": {},
     "output_type": "execute_result"
    }
   ],
   "source": [
    "#Crear tabla: df_motViajeTNal esta es la tabla de los motivos de viaje de los turistas nacionales [Año] [Mes] [item] [Viajeros]item es el motivo y Viajeros es el numero de viajeros por motivo\n",
    "df_motViajeTNal=db_turistaNal[db_turistaNal['Subtema']==\"Motivo de Viaje\"]\n",
    "df_motViajeTNal.info()\n",
    "# df_motViajeTNal\n",
    "df_motViajeTNal=df_motViajeTNal.drop(['Tema', 'Subtema'], axis = 1)\n",
    "df_motViajeTNal.drop(df_motViajeTNal[df_motViajeTNal['Mes'] =='Total'].index, inplace=True)\n",
    "df_motViajeTNal"
   ]
  },
  {
   "cell_type": "code",
   "execution_count": 20,
   "metadata": {
    "colab": {
     "base_uri": "https://localhost:8080/",
     "height": 549
    },
    "id": "YxWRaV-cLFNe",
    "outputId": "c93865e9-0ff5-43a8-de98-192bc8147f5e"
   },
   "outputs": [
    {
     "name": "stdout",
     "output_type": "stream",
     "text": [
      "<class 'pandas.core.frame.DataFrame'>\n",
      "Int64Index: 9 entries, 18516 to 18524\n",
      "Data columns (total 6 columns):\n",
      " #   Column    Non-Null Count  Dtype  \n",
      "---  ------    --------------  -----  \n",
      " 0   Año       9 non-null      int64  \n",
      " 1   Mes       9 non-null      object \n",
      " 2   Tema      9 non-null      object \n",
      " 3   Subtema   9 non-null      object \n",
      " 4   item      9 non-null      object \n",
      " 5   Viajeros  9 non-null      float64\n",
      "dtypes: float64(1), int64(1), object(4)\n",
      "memory usage: 504.0+ bytes\n"
     ]
    },
    {
     "data": {
      "text/html": [
       "<div>\n",
       "<style scoped>\n",
       "    .dataframe tbody tr th:only-of-type {\n",
       "        vertical-align: middle;\n",
       "    }\n",
       "\n",
       "    .dataframe tbody tr th {\n",
       "        vertical-align: top;\n",
       "    }\n",
       "\n",
       "    .dataframe thead th {\n",
       "        text-align: right;\n",
       "    }\n",
       "</style>\n",
       "<table border=\"1\" class=\"dataframe\">\n",
       "  <thead>\n",
       "    <tr style=\"text-align: right;\">\n",
       "      <th></th>\n",
       "      <th>Año</th>\n",
       "      <th>item</th>\n",
       "      <th>Viajeros</th>\n",
       "    </tr>\n",
       "  </thead>\n",
       "  <tbody>\n",
       "    <tr>\n",
       "      <th>18516</th>\n",
       "      <td>2019</td>\n",
       "      <td>Monserrate</td>\n",
       "      <td>747243.0</td>\n",
       "    </tr>\n",
       "    <tr>\n",
       "      <th>18517</th>\n",
       "      <td>2019</td>\n",
       "      <td>Corferias</td>\n",
       "      <td>229005.0</td>\n",
       "    </tr>\n",
       "    <tr>\n",
       "      <th>18518</th>\n",
       "      <td>2019</td>\n",
       "      <td>Zonas G y T</td>\n",
       "      <td>415425.0</td>\n",
       "    </tr>\n",
       "    <tr>\n",
       "      <th>18519</th>\n",
       "      <td>2019</td>\n",
       "      <td>Usaquen</td>\n",
       "      <td>218828.0</td>\n",
       "    </tr>\n",
       "    <tr>\n",
       "      <th>18520</th>\n",
       "      <td>2019</td>\n",
       "      <td>Humedales</td>\n",
       "      <td>69591.0</td>\n",
       "    </tr>\n",
       "    <tr>\n",
       "      <th>18521</th>\n",
       "      <td>2019</td>\n",
       "      <td>Parques</td>\n",
       "      <td>386818.0</td>\n",
       "    </tr>\n",
       "    <tr>\n",
       "      <th>18522</th>\n",
       "      <td>2019</td>\n",
       "      <td>Centros Comerciales</td>\n",
       "      <td>2121980.0</td>\n",
       "    </tr>\n",
       "    <tr>\n",
       "      <th>18523</th>\n",
       "      <td>2019</td>\n",
       "      <td>Otros</td>\n",
       "      <td>3310004.0</td>\n",
       "    </tr>\n",
       "    <tr>\n",
       "      <th>18524</th>\n",
       "      <td>2019</td>\n",
       "      <td>Tansmicable</td>\n",
       "      <td>138886.0</td>\n",
       "    </tr>\n",
       "  </tbody>\n",
       "</table>\n",
       "</div>"
      ],
      "text/plain": [
       "        Año                 item   Viajeros\n",
       "18516  2019           Monserrate   747243.0\n",
       "18517  2019            Corferias   229005.0\n",
       "18518  2019          Zonas G y T   415425.0\n",
       "18519  2019              Usaquen   218828.0\n",
       "18520  2019            Humedales    69591.0\n",
       "18521  2019              Parques   386818.0\n",
       "18522  2019  Centros Comerciales  2121980.0\n",
       "18523  2019                Otros  3310004.0\n",
       "18524  2019          Tansmicable   138886.0"
      ]
     },
     "execution_count": 20,
     "metadata": {},
     "output_type": "execute_result"
    }
   ],
   "source": [
    "#Crear tabla: df_atractivosTNal esta es la tabla de los atractivos turisticos visitados por los turistas nacionales [Año] [Mes] [item] [Viajeros]item es el atractivo y Viajeros es el numero de viajeros por atractivo turistico por año\n",
    "df_atractivosTNal=db_turistaNal[db_turistaNal['Subtema']==\"Atractivos Visitados por el Turista\"]\n",
    "df_atractivosTNal.info()\n",
    "df_atractivosTNal=df_atractivosTNal.drop(['Tema','Mes', 'Subtema'], axis = 1)\n",
    "df_atractivosTNal"
   ]
  },
  {
   "cell_type": "code",
   "execution_count": 21,
   "metadata": {
    "colab": {
     "base_uri": "https://localhost:8080/",
     "height": 1000
    },
    "id": "yUcEmeGyNYkL",
    "outputId": "1d94f44d-53c7-4460-8a3f-e85cbef0c88f"
   },
   "outputs": [
    {
     "name": "stdout",
     "output_type": "stream",
     "text": [
      "<class 'pandas.core.frame.DataFrame'>\n",
      "Int64Index: 28 entries, 18356 to 18506\n",
      "Data columns (total 6 columns):\n",
      " #   Column    Non-Null Count  Dtype  \n",
      "---  ------    --------------  -----  \n",
      " 0   Año       28 non-null     int64  \n",
      " 1   Mes       28 non-null     object \n",
      " 2   Tema      28 non-null     object \n",
      " 3   Subtema   28 non-null     object \n",
      " 4   item      28 non-null     object \n",
      " 5   Viajeros  28 non-null     float64\n",
      "dtypes: float64(1), int64(1), object(4)\n",
      "memory usage: 1.5+ KB\n"
     ]
    },
    {
     "data": {
      "text/html": [
       "<div>\n",
       "<style scoped>\n",
       "    .dataframe tbody tr th:only-of-type {\n",
       "        vertical-align: middle;\n",
       "    }\n",
       "\n",
       "    .dataframe tbody tr th {\n",
       "        vertical-align: top;\n",
       "    }\n",
       "\n",
       "    .dataframe thead th {\n",
       "        text-align: right;\n",
       "    }\n",
       "</style>\n",
       "<table border=\"1\" class=\"dataframe\">\n",
       "  <thead>\n",
       "    <tr style=\"text-align: right;\">\n",
       "      <th></th>\n",
       "      <th>Año</th>\n",
       "      <th>item</th>\n",
       "      <th>Viajeros</th>\n",
       "    </tr>\n",
       "  </thead>\n",
       "  <tbody>\n",
       "    <tr>\n",
       "      <th>18356</th>\n",
       "      <td>2016</td>\n",
       "      <td>Alojamiento</td>\n",
       "      <td>899068.0</td>\n",
       "    </tr>\n",
       "    <tr>\n",
       "      <th>18357</th>\n",
       "      <td>2016</td>\n",
       "      <td>Alimentación</td>\n",
       "      <td>3794608.0</td>\n",
       "    </tr>\n",
       "    <tr>\n",
       "      <th>18358</th>\n",
       "      <td>2016</td>\n",
       "      <td>Transporte interno</td>\n",
       "      <td>3617232.0</td>\n",
       "    </tr>\n",
       "    <tr>\n",
       "      <th>18359</th>\n",
       "      <td>2016</td>\n",
       "      <td>Comunicaciones</td>\n",
       "      <td>302277.0</td>\n",
       "    </tr>\n",
       "    <tr>\n",
       "      <th>18360</th>\n",
       "      <td>2016</td>\n",
       "      <td>Diversiones</td>\n",
       "      <td>876576.0</td>\n",
       "    </tr>\n",
       "    <tr>\n",
       "      <th>18361</th>\n",
       "      <td>2016</td>\n",
       "      <td>Compras</td>\n",
       "      <td>1810394.0</td>\n",
       "    </tr>\n",
       "    <tr>\n",
       "      <th>18362</th>\n",
       "      <td>2016</td>\n",
       "      <td>Otros</td>\n",
       "      <td>202470.0</td>\n",
       "    </tr>\n",
       "    <tr>\n",
       "      <th>18402</th>\n",
       "      <td>2017</td>\n",
       "      <td>Alojamiento</td>\n",
       "      <td>943701.0</td>\n",
       "    </tr>\n",
       "    <tr>\n",
       "      <th>18403</th>\n",
       "      <td>2017</td>\n",
       "      <td>Alimentación</td>\n",
       "      <td>3915501.0</td>\n",
       "    </tr>\n",
       "    <tr>\n",
       "      <th>18404</th>\n",
       "      <td>2017</td>\n",
       "      <td>Transporte interno</td>\n",
       "      <td>3865494.0</td>\n",
       "    </tr>\n",
       "    <tr>\n",
       "      <th>18405</th>\n",
       "      <td>2017</td>\n",
       "      <td>Comunicaciones</td>\n",
       "      <td>429621.0</td>\n",
       "    </tr>\n",
       "    <tr>\n",
       "      <th>18406</th>\n",
       "      <td>2017</td>\n",
       "      <td>Diversiones</td>\n",
       "      <td>1573954.0</td>\n",
       "    </tr>\n",
       "    <tr>\n",
       "      <th>18407</th>\n",
       "      <td>2017</td>\n",
       "      <td>Compras</td>\n",
       "      <td>2648446.0</td>\n",
       "    </tr>\n",
       "    <tr>\n",
       "      <th>18408</th>\n",
       "      <td>2017</td>\n",
       "      <td>Otros</td>\n",
       "      <td>339187.0</td>\n",
       "    </tr>\n",
       "    <tr>\n",
       "      <th>18448</th>\n",
       "      <td>2018</td>\n",
       "      <td>Alojamiento</td>\n",
       "      <td>1599846.0</td>\n",
       "    </tr>\n",
       "    <tr>\n",
       "      <th>18449</th>\n",
       "      <td>2018</td>\n",
       "      <td>Alimentación</td>\n",
       "      <td>3630527.0</td>\n",
       "    </tr>\n",
       "    <tr>\n",
       "      <th>18450</th>\n",
       "      <td>2018</td>\n",
       "      <td>Transporte interno</td>\n",
       "      <td>3396126.0</td>\n",
       "    </tr>\n",
       "    <tr>\n",
       "      <th>18451</th>\n",
       "      <td>2018</td>\n",
       "      <td>Comunicaciones</td>\n",
       "      <td>1654483.0</td>\n",
       "    </tr>\n",
       "    <tr>\n",
       "      <th>18452</th>\n",
       "      <td>2018</td>\n",
       "      <td>Diversiones</td>\n",
       "      <td>1113487.0</td>\n",
       "    </tr>\n",
       "    <tr>\n",
       "      <th>18453</th>\n",
       "      <td>2018</td>\n",
       "      <td>Compras</td>\n",
       "      <td>1941605.0</td>\n",
       "    </tr>\n",
       "    <tr>\n",
       "      <th>18454</th>\n",
       "      <td>2018</td>\n",
       "      <td>Otros</td>\n",
       "      <td>933467.0</td>\n",
       "    </tr>\n",
       "    <tr>\n",
       "      <th>18500</th>\n",
       "      <td>2019</td>\n",
       "      <td>Alojamiento</td>\n",
       "      <td>1094433.0</td>\n",
       "    </tr>\n",
       "    <tr>\n",
       "      <th>18501</th>\n",
       "      <td>2019</td>\n",
       "      <td>Alimentación</td>\n",
       "      <td>4120122.0</td>\n",
       "    </tr>\n",
       "    <tr>\n",
       "      <th>18502</th>\n",
       "      <td>2019</td>\n",
       "      <td>Transporte interno</td>\n",
       "      <td>4053291.0</td>\n",
       "    </tr>\n",
       "    <tr>\n",
       "      <th>18503</th>\n",
       "      <td>2019</td>\n",
       "      <td>Comunicaciones</td>\n",
       "      <td>2201038.0</td>\n",
       "    </tr>\n",
       "    <tr>\n",
       "      <th>18504</th>\n",
       "      <td>2019</td>\n",
       "      <td>Diversiones</td>\n",
       "      <td>1522112.0</td>\n",
       "    </tr>\n",
       "    <tr>\n",
       "      <th>18505</th>\n",
       "      <td>2019</td>\n",
       "      <td>Compras</td>\n",
       "      <td>1318169.0</td>\n",
       "    </tr>\n",
       "    <tr>\n",
       "      <th>18506</th>\n",
       "      <td>2019</td>\n",
       "      <td>Otros</td>\n",
       "      <td>367651.0</td>\n",
       "    </tr>\n",
       "  </tbody>\n",
       "</table>\n",
       "</div>"
      ],
      "text/plain": [
       "        Año                item   Viajeros\n",
       "18356  2016         Alojamiento   899068.0\n",
       "18357  2016        Alimentación  3794608.0\n",
       "18358  2016  Transporte interno  3617232.0\n",
       "18359  2016      Comunicaciones   302277.0\n",
       "18360  2016         Diversiones   876576.0\n",
       "18361  2016             Compras  1810394.0\n",
       "18362  2016               Otros   202470.0\n",
       "18402  2017         Alojamiento   943701.0\n",
       "18403  2017        Alimentación  3915501.0\n",
       "18404  2017  Transporte interno  3865494.0\n",
       "18405  2017      Comunicaciones   429621.0\n",
       "18406  2017         Diversiones  1573954.0\n",
       "18407  2017             Compras  2648446.0\n",
       "18408  2017               Otros   339187.0\n",
       "18448  2018         Alojamiento  1599846.0\n",
       "18449  2018        Alimentación  3630527.0\n",
       "18450  2018  Transporte interno  3396126.0\n",
       "18451  2018      Comunicaciones  1654483.0\n",
       "18452  2018         Diversiones  1113487.0\n",
       "18453  2018             Compras  1941605.0\n",
       "18454  2018               Otros   933467.0\n",
       "18500  2019         Alojamiento  1094433.0\n",
       "18501  2019        Alimentación  4120122.0\n",
       "18502  2019  Transporte interno  4053291.0\n",
       "18503  2019      Comunicaciones  2201038.0\n",
       "18504  2019         Diversiones  1522112.0\n",
       "18505  2019             Compras  1318169.0\n",
       "18506  2019               Otros   367651.0"
      ]
     },
     "execution_count": 21,
     "metadata": {},
     "output_type": "execute_result"
    }
   ],
   "source": [
    "#Crear tabla: df_distGastoTNal esta es la tabla de la distribucion de gasto de los turistas nacionales [Año] [item] [Viajeros]item es el tipo de gasto y Viajeros es el total gasto en dolares por tipo por año\n",
    "df_distGastoTNal=db_turistaNal[db_turistaNal['Subtema']==\"Distribución del Gasto\"]\n",
    "df_distGastoTNal.info()\n",
    "df_distGastoTNal=df_distGastoTNal.drop(['Tema','Mes', 'Subtema'], axis = 1)\n",
    "df_distGastoTNal"
   ]
  },
  {
   "cell_type": "code",
   "execution_count": 22,
   "metadata": {
    "colab": {
     "base_uri": "https://localhost:8080/",
     "height": 640
    },
    "id": "3L7aG_rWePcV",
    "outputId": "c2d353ce-54c5-4062-8368-28173766f5eb"
   },
   "outputs": [
    {
     "name": "stdout",
     "output_type": "stream",
     "text": [
      "<class 'pandas.core.frame.DataFrame'>\n",
      "Int64Index: 620 entries, 12399 to 13018\n",
      "Data columns (total 6 columns):\n",
      " #   Column    Non-Null Count  Dtype  \n",
      "---  ------    --------------  -----  \n",
      " 0   Año       620 non-null    int64  \n",
      " 1   Mes       620 non-null    object \n",
      " 2   Tema      620 non-null    object \n",
      " 3   Subtema   620 non-null    object \n",
      " 4   item      620 non-null    object \n",
      " 5   Viajeros  620 non-null    float64\n",
      "dtypes: float64(1), int64(1), object(4)\n",
      "memory usage: 33.9+ KB\n"
     ]
    },
    {
     "data": {
      "text/html": [
       "<div>\n",
       "<style scoped>\n",
       "    .dataframe tbody tr th:only-of-type {\n",
       "        vertical-align: middle;\n",
       "    }\n",
       "\n",
       "    .dataframe tbody tr th {\n",
       "        vertical-align: top;\n",
       "    }\n",
       "\n",
       "    .dataframe thead th {\n",
       "        text-align: right;\n",
       "    }\n",
       "</style>\n",
       "<table border=\"1\" class=\"dataframe\">\n",
       "  <thead>\n",
       "    <tr style=\"text-align: right;\">\n",
       "      <th></th>\n",
       "      <th>Año</th>\n",
       "      <th>Mes</th>\n",
       "      <th>item</th>\n",
       "      <th>Viajeros</th>\n",
       "    </tr>\n",
       "  </thead>\n",
       "  <tbody>\n",
       "    <tr>\n",
       "      <th>12399</th>\n",
       "      <td>2015</td>\n",
       "      <td>Enero</td>\n",
       "      <td>Menor de 18</td>\n",
       "      <td>0.0</td>\n",
       "    </tr>\n",
       "    <tr>\n",
       "      <th>12400</th>\n",
       "      <td>2015</td>\n",
       "      <td>Febrero</td>\n",
       "      <td>Menor de 18</td>\n",
       "      <td>0.0</td>\n",
       "    </tr>\n",
       "    <tr>\n",
       "      <th>12401</th>\n",
       "      <td>2015</td>\n",
       "      <td>Marzo</td>\n",
       "      <td>Menor de 18</td>\n",
       "      <td>0.0</td>\n",
       "    </tr>\n",
       "    <tr>\n",
       "      <th>12402</th>\n",
       "      <td>2015</td>\n",
       "      <td>Abril</td>\n",
       "      <td>Menor de 18</td>\n",
       "      <td>0.0</td>\n",
       "    </tr>\n",
       "    <tr>\n",
       "      <th>12403</th>\n",
       "      <td>2015</td>\n",
       "      <td>Mayo</td>\n",
       "      <td>Menor de 18</td>\n",
       "      <td>0.0</td>\n",
       "    </tr>\n",
       "    <tr>\n",
       "      <th>...</th>\n",
       "      <td>...</td>\n",
       "      <td>...</td>\n",
       "      <td>...</td>\n",
       "      <td>...</td>\n",
       "    </tr>\n",
       "    <tr>\n",
       "      <th>13013</th>\n",
       "      <td>2019</td>\n",
       "      <td>Agosto</td>\n",
       "      <td>Ns/Nr</td>\n",
       "      <td>289002.0</td>\n",
       "    </tr>\n",
       "    <tr>\n",
       "      <th>13014</th>\n",
       "      <td>2019</td>\n",
       "      <td>Septiembre</td>\n",
       "      <td>Ns/Nr</td>\n",
       "      <td>268553.0</td>\n",
       "    </tr>\n",
       "    <tr>\n",
       "      <th>13015</th>\n",
       "      <td>2019</td>\n",
       "      <td>Octubre</td>\n",
       "      <td>Ns/Nr</td>\n",
       "      <td>309519.0</td>\n",
       "    </tr>\n",
       "    <tr>\n",
       "      <th>13016</th>\n",
       "      <td>2019</td>\n",
       "      <td>Noviembre</td>\n",
       "      <td>Ns/Nr</td>\n",
       "      <td>324893.0</td>\n",
       "    </tr>\n",
       "    <tr>\n",
       "      <th>13017</th>\n",
       "      <td>2019</td>\n",
       "      <td>Diciembre</td>\n",
       "      <td>Ns/Nr</td>\n",
       "      <td>314268.0</td>\n",
       "    </tr>\n",
       "  </tbody>\n",
       "</table>\n",
       "<p>570 rows × 4 columns</p>\n",
       "</div>"
      ],
      "text/plain": [
       "        Año         Mes         item  Viajeros\n",
       "12399  2015       Enero  Menor de 18       0.0\n",
       "12400  2015     Febrero  Menor de 18       0.0\n",
       "12401  2015       Marzo  Menor de 18       0.0\n",
       "12402  2015       Abril  Menor de 18       0.0\n",
       "12403  2015        Mayo  Menor de 18       0.0\n",
       "...     ...         ...          ...       ...\n",
       "13013  2019      Agosto        Ns/Nr  289002.0\n",
       "13014  2019  Septiembre        Ns/Nr  268553.0\n",
       "13015  2019     Octubre        Ns/Nr  309519.0\n",
       "13016  2019   Noviembre        Ns/Nr  324893.0\n",
       "13017  2019   Diciembre        Ns/Nr  314268.0\n",
       "\n",
       "[570 rows x 4 columns]"
      ]
     },
     "execution_count": 22,
     "metadata": {},
     "output_type": "execute_result"
    }
   ],
   "source": [
    "#Crear tabla: df_distEtariaTNal esta es la tabla de la distribucion etaria de los turistas nacionales [Año] [Mes] [item] [Viajeros]item el grupo de edad y Viajeros es número de viajeros por grupo\n",
    "df_distEtariaTNal=db_turistaNal[db_turistaNal['Subtema']==\"Distribución Etaria\"]\n",
    "df_distEtariaTNal.info()\n",
    "df_distEtariaTNal=df_distEtariaTNal.drop(['Tema', 'Subtema'], axis = 1)\n",
    "df_distEtariaTNal.drop(df_distEtariaTNal[df_distEtariaTNal['Mes'] =='Total'].index, inplace=True)\n",
    "df_distEtariaTNal"
   ]
  },
  {
   "cell_type": "code",
   "execution_count": 23,
   "metadata": {
    "colab": {
     "base_uri": "https://localhost:8080/",
     "height": 363
    },
    "id": "AZUG5m92eSkx",
    "outputId": "f36ae5ab-b5e5-4276-ce44-7865a6735080"
   },
   "outputs": [
    {
     "name": "stdout",
     "output_type": "stream",
     "text": [
      "<class 'pandas.core.frame.DataFrame'>\n",
      "Int64Index: 3 entries, 18365 to 18463\n",
      "Data columns (total 6 columns):\n",
      " #   Column    Non-Null Count  Dtype  \n",
      "---  ------    --------------  -----  \n",
      " 0   Año       3 non-null      int64  \n",
      " 1   Mes       3 non-null      object \n",
      " 2   Tema      3 non-null      object \n",
      " 3   Subtema   3 non-null      object \n",
      " 4   item      3 non-null      object \n",
      " 5   Viajeros  3 non-null      float64\n",
      "dtypes: float64(1), int64(1), object(4)\n",
      "memory usage: 168.0+ bytes\n"
     ]
    },
    {
     "data": {
      "text/html": [
       "<div>\n",
       "<style scoped>\n",
       "    .dataframe tbody tr th:only-of-type {\n",
       "        vertical-align: middle;\n",
       "    }\n",
       "\n",
       "    .dataframe tbody tr th {\n",
       "        vertical-align: top;\n",
       "    }\n",
       "\n",
       "    .dataframe thead th {\n",
       "        text-align: right;\n",
       "    }\n",
       "</style>\n",
       "<table border=\"1\" class=\"dataframe\">\n",
       "  <thead>\n",
       "    <tr style=\"text-align: right;\">\n",
       "      <th></th>\n",
       "      <th>Año</th>\n",
       "      <th>Viajeros</th>\n",
       "    </tr>\n",
       "  </thead>\n",
       "  <tbody>\n",
       "    <tr>\n",
       "      <th>18365</th>\n",
       "      <td>2017</td>\n",
       "      <td>1317.0</td>\n",
       "    </tr>\n",
       "    <tr>\n",
       "      <th>18411</th>\n",
       "      <td>2018</td>\n",
       "      <td>1515.0</td>\n",
       "    </tr>\n",
       "    <tr>\n",
       "      <th>18463</th>\n",
       "      <td>2019</td>\n",
       "      <td>1523.0</td>\n",
       "    </tr>\n",
       "  </tbody>\n",
       "</table>\n",
       "</div>"
      ],
      "text/plain": [
       "        Año  Viajeros\n",
       "18365  2017    1317.0\n",
       "18411  2018    1515.0\n",
       "18463  2019    1523.0"
      ]
     },
     "execution_count": 23,
     "metadata": {},
     "output_type": "execute_result"
    }
   ],
   "source": [
    "#Crear tabla: df_gastoTNal esta es la tabla del gastos total (dolares) de los turistas nacionales en Bogota [Año] [Viajeros] Viajeros es el gasto total de los viajeros en Bogotá por año\n",
    "df_gastoTNal=db_turistaNal[db_turistaNal['Subtema']==\"Gasto (millones de dolares)\"]\n",
    "df_gastoTNal.info()\n",
    "df_gastoTNal=df_gastoTNal.drop(['Tema','Mes','item' ,'Subtema'], axis = 1)\n",
    "df_gastoTNal"
   ]
  },
  {
   "cell_type": "code",
   "execution_count": 24,
   "metadata": {
    "colab": {
     "base_uri": "https://localhost:8080/",
     "height": 363
    },
    "id": "47O91GKKedLx",
    "outputId": "5270204e-ab34-4f2d-eb65-424a9e8d2085"
   },
   "outputs": [
    {
     "name": "stdout",
     "output_type": "stream",
     "text": [
      "<class 'pandas.core.frame.DataFrame'>\n",
      "Int64Index: 3 entries, 18366 to 18464\n",
      "Data columns (total 6 columns):\n",
      " #   Column    Non-Null Count  Dtype  \n",
      "---  ------    --------------  -----  \n",
      " 0   Año       3 non-null      int64  \n",
      " 1   Mes       3 non-null      object \n",
      " 2   Tema      3 non-null      object \n",
      " 3   Subtema   3 non-null      object \n",
      " 4   item      3 non-null      object \n",
      " 5   Viajeros  3 non-null      float64\n",
      "dtypes: float64(1), int64(1), object(4)\n",
      "memory usage: 168.0+ bytes\n"
     ]
    },
    {
     "data": {
      "text/html": [
       "<div>\n",
       "<style scoped>\n",
       "    .dataframe tbody tr th:only-of-type {\n",
       "        vertical-align: middle;\n",
       "    }\n",
       "\n",
       "    .dataframe tbody tr th {\n",
       "        vertical-align: top;\n",
       "    }\n",
       "\n",
       "    .dataframe thead th {\n",
       "        text-align: right;\n",
       "    }\n",
       "</style>\n",
       "<table border=\"1\" class=\"dataframe\">\n",
       "  <thead>\n",
       "    <tr style=\"text-align: right;\">\n",
       "      <th></th>\n",
       "      <th>Año</th>\n",
       "      <th>Viajeros</th>\n",
       "    </tr>\n",
       "  </thead>\n",
       "  <tbody>\n",
       "    <tr>\n",
       "      <th>18366</th>\n",
       "      <td>2017</td>\n",
       "      <td>26.0</td>\n",
       "    </tr>\n",
       "    <tr>\n",
       "      <th>18412</th>\n",
       "      <td>2018</td>\n",
       "      <td>42.0</td>\n",
       "    </tr>\n",
       "    <tr>\n",
       "      <th>18464</th>\n",
       "      <td>2019</td>\n",
       "      <td>47.0</td>\n",
       "    </tr>\n",
       "  </tbody>\n",
       "</table>\n",
       "</div>"
      ],
      "text/plain": [
       "        Año  Viajeros\n",
       "18366  2017      26.0\n",
       "18412  2018      42.0\n",
       "18464  2019      47.0"
      ]
     },
     "execution_count": 24,
     "metadata": {},
     "output_type": "execute_result"
    }
   ],
   "source": [
    "#Crear tabla: df_gastoTNal esta es la tabla del gasto per capita (dolares) de los turistas nacionales en Bogota [Año] [Viajeros] Viajeros es el gasto per capita de los viajeros en Bogotá por año\n",
    "df_gastoPerCapitaTNal=db_turistaNal[db_turistaNal['Subtema']==\"Gasto (dolares)\"]\n",
    "df_gastoPerCapitaTNal.info()\n",
    "df_gastoPerCapitaTNal=df_gastoPerCapitaTNal.drop(['Tema','Mes','item' ,'Subtema'], axis = 1)\n",
    "df_gastoPerCapitaTNal"
   ]
  },
  {
   "cell_type": "code",
   "execution_count": 25,
   "metadata": {
    "colab": {
     "base_uri": "https://localhost:8080/",
     "height": 640
    },
    "id": "IyGFsC-YeglI",
    "outputId": "b1eb8655-257c-4a48-c893-542278908516"
   },
   "outputs": [
    {
     "name": "stdout",
     "output_type": "stream",
     "text": [
      "<class 'pandas.core.frame.DataFrame'>\n",
      "Int64Index: 240 entries, 11687 to 12019\n",
      "Data columns (total 6 columns):\n",
      " #   Column    Non-Null Count  Dtype  \n",
      "---  ------    --------------  -----  \n",
      " 0   Año       240 non-null    int64  \n",
      " 1   Mes       240 non-null    object \n",
      " 2   Tema      240 non-null    object \n",
      " 3   Subtema   240 non-null    object \n",
      " 4   item      240 non-null    object \n",
      " 5   Viajeros  240 non-null    float64\n",
      "dtypes: float64(1), int64(1), object(4)\n",
      "memory usage: 13.1+ KB\n"
     ]
    },
    {
     "data": {
      "text/html": [
       "<div>\n",
       "<style scoped>\n",
       "    .dataframe tbody tr th:only-of-type {\n",
       "        vertical-align: middle;\n",
       "    }\n",
       "\n",
       "    .dataframe tbody tr th {\n",
       "        vertical-align: top;\n",
       "    }\n",
       "\n",
       "    .dataframe thead th {\n",
       "        text-align: right;\n",
       "    }\n",
       "</style>\n",
       "<table border=\"1\" class=\"dataframe\">\n",
       "  <thead>\n",
       "    <tr style=\"text-align: right;\">\n",
       "      <th></th>\n",
       "      <th>Año</th>\n",
       "      <th>Mes</th>\n",
       "      <th>item</th>\n",
       "      <th>Viajeros</th>\n",
       "    </tr>\n",
       "  </thead>\n",
       "  <tbody>\n",
       "    <tr>\n",
       "      <th>11687</th>\n",
       "      <td>2011</td>\n",
       "      <td>Julio</td>\n",
       "      <td>Femenino</td>\n",
       "      <td>183386.0</td>\n",
       "    </tr>\n",
       "    <tr>\n",
       "      <th>11688</th>\n",
       "      <td>2011</td>\n",
       "      <td>Agosto</td>\n",
       "      <td>Femenino</td>\n",
       "      <td>160598.0</td>\n",
       "    </tr>\n",
       "    <tr>\n",
       "      <th>11689</th>\n",
       "      <td>2011</td>\n",
       "      <td>Septiembre</td>\n",
       "      <td>Femenino</td>\n",
       "      <td>146453.0</td>\n",
       "    </tr>\n",
       "    <tr>\n",
       "      <th>11690</th>\n",
       "      <td>2011</td>\n",
       "      <td>Octubre</td>\n",
       "      <td>Femenino</td>\n",
       "      <td>157270.0</td>\n",
       "    </tr>\n",
       "    <tr>\n",
       "      <th>11691</th>\n",
       "      <td>2011</td>\n",
       "      <td>Noviembre</td>\n",
       "      <td>Femenino</td>\n",
       "      <td>165238.0</td>\n",
       "    </tr>\n",
       "    <tr>\n",
       "      <th>...</th>\n",
       "      <td>...</td>\n",
       "      <td>...</td>\n",
       "      <td>...</td>\n",
       "      <td>...</td>\n",
       "    </tr>\n",
       "    <tr>\n",
       "      <th>12014</th>\n",
       "      <td>2019</td>\n",
       "      <td>Agosto</td>\n",
       "      <td>Ns/Nr</td>\n",
       "      <td>2490.0</td>\n",
       "    </tr>\n",
       "    <tr>\n",
       "      <th>12015</th>\n",
       "      <td>2019</td>\n",
       "      <td>Septiembre</td>\n",
       "      <td>Ns/Nr</td>\n",
       "      <td>7848.0</td>\n",
       "    </tr>\n",
       "    <tr>\n",
       "      <th>12016</th>\n",
       "      <td>2019</td>\n",
       "      <td>Octubre</td>\n",
       "      <td>Ns/Nr</td>\n",
       "      <td>0.0</td>\n",
       "    </tr>\n",
       "    <tr>\n",
       "      <th>12017</th>\n",
       "      <td>2019</td>\n",
       "      <td>Noviembre</td>\n",
       "      <td>Ns/Nr</td>\n",
       "      <td>11699.0</td>\n",
       "    </tr>\n",
       "    <tr>\n",
       "      <th>12018</th>\n",
       "      <td>2019</td>\n",
       "      <td>Diciembre</td>\n",
       "      <td>Ns/Nr</td>\n",
       "      <td>5802.0</td>\n",
       "    </tr>\n",
       "  </tbody>\n",
       "</table>\n",
       "<p>220 rows × 4 columns</p>\n",
       "</div>"
      ],
      "text/plain": [
       "        Año         Mes      item  Viajeros\n",
       "11687  2011       Julio  Femenino  183386.0\n",
       "11688  2011      Agosto  Femenino  160598.0\n",
       "11689  2011  Septiembre  Femenino  146453.0\n",
       "11690  2011     Octubre  Femenino  157270.0\n",
       "11691  2011   Noviembre  Femenino  165238.0\n",
       "...     ...         ...       ...       ...\n",
       "12014  2019      Agosto     Ns/Nr    2490.0\n",
       "12015  2019  Septiembre     Ns/Nr    7848.0\n",
       "12016  2019     Octubre     Ns/Nr       0.0\n",
       "12017  2019   Noviembre     Ns/Nr   11699.0\n",
       "12018  2019   Diciembre     Ns/Nr    5802.0\n",
       "\n",
       "[220 rows x 4 columns]"
      ]
     },
     "execution_count": 25,
     "metadata": {},
     "output_type": "execute_result"
    }
   ],
   "source": [
    "#Crear tabla: df_generoTNal esta es la tabla con el genero de los turistas nacionales [Año] [Mes] [Viajeros] Viajeros es el número de mujeres-hombres-Ns/Nr que visitan Bogotá\n",
    "df_generoTNal=db_turistaNal[db_turistaNal['Subtema']==\"Género\"]\n",
    "df_generoTNal.info()\n",
    "df_generoTNal=df_generoTNal.drop(['Tema','Subtema'], axis = 1)\n",
    "df_generoTNal.drop(df_generoTNal[df_generoTNal['Mes'] =='Total'].index, inplace=True)\n",
    "df_generoTNal"
   ]
  },
  {
   "cell_type": "code",
   "execution_count": 26,
   "metadata": {
    "colab": {
     "base_uri": "https://localhost:8080/",
     "height": 921
    },
    "id": "KmmMbFP-ekdo",
    "outputId": "513d4553-488a-438f-f2a8-377a4bbdf615"
   },
   "outputs": [
    {
     "name": "stdout",
     "output_type": "stream",
     "text": [
      "<class 'pandas.core.frame.DataFrame'>\n",
      "Int64Index: 21 entries, 18327 to 18476\n",
      "Data columns (total 6 columns):\n",
      " #   Column    Non-Null Count  Dtype  \n",
      "---  ------    --------------  -----  \n",
      " 0   Año       21 non-null     int64  \n",
      " 1   Mes       21 non-null     object \n",
      " 2   Tema      21 non-null     object \n",
      " 3   Subtema   21 non-null     object \n",
      " 4   item      21 non-null     object \n",
      " 5   Viajeros  21 non-null     float64\n",
      "dtypes: float64(1), int64(1), object(4)\n",
      "memory usage: 1.1+ KB\n"
     ]
    },
    {
     "data": {
      "text/html": [
       "<div>\n",
       "<style scoped>\n",
       "    .dataframe tbody tr th:only-of-type {\n",
       "        vertical-align: middle;\n",
       "    }\n",
       "\n",
       "    .dataframe tbody tr th {\n",
       "        vertical-align: top;\n",
       "    }\n",
       "\n",
       "    .dataframe thead th {\n",
       "        text-align: right;\n",
       "    }\n",
       "</style>\n",
       "<table border=\"1\" class=\"dataframe\">\n",
       "  <thead>\n",
       "    <tr style=\"text-align: right;\">\n",
       "      <th></th>\n",
       "      <th>Año</th>\n",
       "      <th>item</th>\n",
       "      <th>Viajeros</th>\n",
       "    </tr>\n",
       "  </thead>\n",
       "  <tbody>\n",
       "    <tr>\n",
       "      <th>18327</th>\n",
       "      <td>2016</td>\n",
       "      <td>Solo</td>\n",
       "      <td>2325470.0</td>\n",
       "    </tr>\n",
       "    <tr>\n",
       "      <th>18328</th>\n",
       "      <td>2016</td>\n",
       "      <td>Familia</td>\n",
       "      <td>1932049.0</td>\n",
       "    </tr>\n",
       "    <tr>\n",
       "      <th>18330</th>\n",
       "      <td>2016</td>\n",
       "      <td>Amigos</td>\n",
       "      <td>150124.0</td>\n",
       "    </tr>\n",
       "    <tr>\n",
       "      <th>18331</th>\n",
       "      <td>2016</td>\n",
       "      <td>Compañeros de trabajo y estudio</td>\n",
       "      <td>453678.0</td>\n",
       "    </tr>\n",
       "    <tr>\n",
       "      <th>18332</th>\n",
       "      <td>2016</td>\n",
       "      <td>Otro</td>\n",
       "      <td>11175.0</td>\n",
       "    </tr>\n",
       "    <tr>\n",
       "      <th>18373</th>\n",
       "      <td>2017</td>\n",
       "      <td>Solo</td>\n",
       "      <td>2101585.0</td>\n",
       "    </tr>\n",
       "    <tr>\n",
       "      <th>18374</th>\n",
       "      <td>2017</td>\n",
       "      <td>Familia</td>\n",
       "      <td>3617952.0</td>\n",
       "    </tr>\n",
       "    <tr>\n",
       "      <th>18376</th>\n",
       "      <td>2017</td>\n",
       "      <td>Amigos</td>\n",
       "      <td>223378.0</td>\n",
       "    </tr>\n",
       "    <tr>\n",
       "      <th>18377</th>\n",
       "      <td>2017</td>\n",
       "      <td>Compañeros de trabajo y estudio</td>\n",
       "      <td>513433.0</td>\n",
       "    </tr>\n",
       "    <tr>\n",
       "      <th>18378</th>\n",
       "      <td>2017</td>\n",
       "      <td>Otro</td>\n",
       "      <td>21184.0</td>\n",
       "    </tr>\n",
       "    <tr>\n",
       "      <th>18419</th>\n",
       "      <td>2018</td>\n",
       "      <td>Solo</td>\n",
       "      <td>2199561.0</td>\n",
       "    </tr>\n",
       "    <tr>\n",
       "      <th>18420</th>\n",
       "      <td>2018</td>\n",
       "      <td>Familia</td>\n",
       "      <td>3909697.0</td>\n",
       "    </tr>\n",
       "    <tr>\n",
       "      <th>18422</th>\n",
       "      <td>2018</td>\n",
       "      <td>Amigos</td>\n",
       "      <td>243716.0</td>\n",
       "    </tr>\n",
       "    <tr>\n",
       "      <th>18423</th>\n",
       "      <td>2018</td>\n",
       "      <td>Compañeros de trabajo y estudio</td>\n",
       "      <td>962615.0</td>\n",
       "    </tr>\n",
       "    <tr>\n",
       "      <th>18424</th>\n",
       "      <td>2018</td>\n",
       "      <td>Otro</td>\n",
       "      <td>39770.0</td>\n",
       "    </tr>\n",
       "    <tr>\n",
       "      <th>18471</th>\n",
       "      <td>2019</td>\n",
       "      <td>Solo</td>\n",
       "      <td>2696783.0</td>\n",
       "    </tr>\n",
       "    <tr>\n",
       "      <th>18472</th>\n",
       "      <td>2019</td>\n",
       "      <td>Familia</td>\n",
       "      <td>2573003.0</td>\n",
       "    </tr>\n",
       "    <tr>\n",
       "      <th>18473</th>\n",
       "      <td>2019</td>\n",
       "      <td>Pareja</td>\n",
       "      <td>752801.0</td>\n",
       "    </tr>\n",
       "    <tr>\n",
       "      <th>18474</th>\n",
       "      <td>2019</td>\n",
       "      <td>Amigos</td>\n",
       "      <td>262677.0</td>\n",
       "    </tr>\n",
       "    <tr>\n",
       "      <th>18475</th>\n",
       "      <td>2019</td>\n",
       "      <td>Compañeros de trabajo y estudio</td>\n",
       "      <td>636171.0</td>\n",
       "    </tr>\n",
       "    <tr>\n",
       "      <th>18476</th>\n",
       "      <td>2019</td>\n",
       "      <td>Otro</td>\n",
       "      <td>22991.0</td>\n",
       "    </tr>\n",
       "  </tbody>\n",
       "</table>\n",
       "</div>"
      ],
      "text/plain": [
       "        Año                             item   Viajeros\n",
       "18327  2016                             Solo  2325470.0\n",
       "18328  2016                          Familia  1932049.0\n",
       "18330  2016                           Amigos   150124.0\n",
       "18331  2016  Compañeros de trabajo y estudio   453678.0\n",
       "18332  2016                             Otro    11175.0\n",
       "18373  2017                             Solo  2101585.0\n",
       "18374  2017                          Familia  3617952.0\n",
       "18376  2017                           Amigos   223378.0\n",
       "18377  2017  Compañeros de trabajo y estudio   513433.0\n",
       "18378  2017                             Otro    21184.0\n",
       "18419  2018                             Solo  2199561.0\n",
       "18420  2018                          Familia  3909697.0\n",
       "18422  2018                           Amigos   243716.0\n",
       "18423  2018  Compañeros de trabajo y estudio   962615.0\n",
       "18424  2018                             Otro    39770.0\n",
       "18471  2019                             Solo  2696783.0\n",
       "18472  2019                          Familia  2573003.0\n",
       "18473  2019                           Pareja   752801.0\n",
       "18474  2019                           Amigos   262677.0\n",
       "18475  2019  Compañeros de trabajo y estudio   636171.0\n",
       "18476  2019                             Otro    22991.0"
      ]
     },
     "execution_count": 26,
     "metadata": {},
     "output_type": "execute_result"
    }
   ],
   "source": [
    "#Crear tabla: df_grupViajeTNal esta es la tabla con el grupo de viaje de los turistas nacionales [Año] [Viajeros] Viajeros es el número de turistas por tipo de grupo de viaje (ej. solo,familia,etc) por año\n",
    "df_grupViajeTNal=db_turistaNal[db_turistaNal['Subtema']==\"Grupo de Viaje\"]\n",
    "df_grupViajeTNal.info()\n",
    "df_grupViajeTNal=df_grupViajeTNal.drop(['Tema','Mes','Subtema'], axis = 1)\n",
    "df_grupViajeTNal"
   ]
  },
  {
   "cell_type": "code",
   "execution_count": 27,
   "metadata": {
    "colab": {
     "base_uri": "https://localhost:8080/",
     "height": 549
    },
    "id": "00mFIXaiXZVW",
    "outputId": "20d2bbfa-5723-4373-d22c-9f20e2f3adee"
   },
   "outputs": [
    {
     "name": "stdout",
     "output_type": "stream",
     "text": [
      "<class 'pandas.core.frame.DataFrame'>\n",
      "Int64Index: 9 entries, 18458 to 18542\n",
      "Data columns (total 6 columns):\n",
      " #   Column    Non-Null Count  Dtype  \n",
      "---  ------    --------------  -----  \n",
      " 0   Año       9 non-null      int64  \n",
      " 1   Mes       9 non-null      object \n",
      " 2   Tema      9 non-null      object \n",
      " 3   Subtema   9 non-null      object \n",
      " 4   item      9 non-null      object \n",
      " 5   Viajeros  9 non-null      float64\n",
      "dtypes: float64(1), int64(1), object(4)\n",
      "memory usage: 504.0+ bytes\n"
     ]
    },
    {
     "data": {
      "text/html": [
       "<div>\n",
       "<style scoped>\n",
       "    .dataframe tbody tr th:only-of-type {\n",
       "        vertical-align: middle;\n",
       "    }\n",
       "\n",
       "    .dataframe tbody tr th {\n",
       "        vertical-align: top;\n",
       "    }\n",
       "\n",
       "    .dataframe thead th {\n",
       "        text-align: right;\n",
       "    }\n",
       "</style>\n",
       "<table border=\"1\" class=\"dataframe\">\n",
       "  <thead>\n",
       "    <tr style=\"text-align: right;\">\n",
       "      <th></th>\n",
       "      <th>Año</th>\n",
       "      <th>Subtema</th>\n",
       "      <th>item</th>\n",
       "      <th>Viajeros</th>\n",
       "    </tr>\n",
       "  </thead>\n",
       "  <tbody>\n",
       "    <tr>\n",
       "      <th>18458</th>\n",
       "      <td>2018</td>\n",
       "      <td>Hizo Actividades De Biciturismo</td>\n",
       "      <td>Sí</td>\n",
       "      <td>103018.0</td>\n",
       "    </tr>\n",
       "    <tr>\n",
       "      <th>18459</th>\n",
       "      <td>2018</td>\n",
       "      <td>Hizo Actividades De Biciturismo</td>\n",
       "      <td>No</td>\n",
       "      <td>7302938.0</td>\n",
       "    </tr>\n",
       "    <tr>\n",
       "      <th>18460</th>\n",
       "      <td>2018</td>\n",
       "      <td>Hizo Actividades De Biciturismo</td>\n",
       "      <td>Ns/Nr</td>\n",
       "      <td>1449.0</td>\n",
       "    </tr>\n",
       "    <tr>\n",
       "      <th>18534</th>\n",
       "      <td>2019</td>\n",
       "      <td>Hizo Actividades De Aviturismo</td>\n",
       "      <td>Sí</td>\n",
       "      <td>13680.0</td>\n",
       "    </tr>\n",
       "    <tr>\n",
       "      <th>18535</th>\n",
       "      <td>2019</td>\n",
       "      <td>Hizo Actividades De Aviturismo</td>\n",
       "      <td>No</td>\n",
       "      <td>6875225.0</td>\n",
       "    </tr>\n",
       "    <tr>\n",
       "      <th>18536</th>\n",
       "      <td>2019</td>\n",
       "      <td>Hizo Actividades De Aviturismo</td>\n",
       "      <td>Ns/Nr</td>\n",
       "      <td>40652.0</td>\n",
       "    </tr>\n",
       "    <tr>\n",
       "      <th>18540</th>\n",
       "      <td>2019</td>\n",
       "      <td>Hizo Actividades De Biciturismo</td>\n",
       "      <td>Sí</td>\n",
       "      <td>83720.0</td>\n",
       "    </tr>\n",
       "    <tr>\n",
       "      <th>18541</th>\n",
       "      <td>2019</td>\n",
       "      <td>Hizo Actividades De Biciturismo</td>\n",
       "      <td>No</td>\n",
       "      <td>6823726.0</td>\n",
       "    </tr>\n",
       "    <tr>\n",
       "      <th>18542</th>\n",
       "      <td>2019</td>\n",
       "      <td>Hizo Actividades De Biciturismo</td>\n",
       "      <td>Ns/Nr</td>\n",
       "      <td>36987.0</td>\n",
       "    </tr>\n",
       "  </tbody>\n",
       "</table>\n",
       "</div>"
      ],
      "text/plain": [
       "        Año                          Subtema   item   Viajeros\n",
       "18458  2018  Hizo Actividades De Biciturismo     Sí   103018.0\n",
       "18459  2018  Hizo Actividades De Biciturismo     No  7302938.0\n",
       "18460  2018  Hizo Actividades De Biciturismo  Ns/Nr     1449.0\n",
       "18534  2019   Hizo Actividades De Aviturismo     Sí    13680.0\n",
       "18535  2019   Hizo Actividades De Aviturismo     No  6875225.0\n",
       "18536  2019   Hizo Actividades De Aviturismo  Ns/Nr    40652.0\n",
       "18540  2019  Hizo Actividades De Biciturismo     Sí    83720.0\n",
       "18541  2019  Hizo Actividades De Biciturismo     No  6823726.0\n",
       "18542  2019  Hizo Actividades De Biciturismo  Ns/Nr    36987.0"
      ]
     },
     "execution_count": 27,
     "metadata": {},
     "output_type": "execute_result"
    }
   ],
   "source": [
    "#Crear tabla: df_actTurismoTNal esta es la tabla de las actividades de turismo de los turistas nacionales [Año] [item] [Subtema] [Viajeros]item es si ha realizado la actividad (Si, No, Nr/Ns), Subtema es e tipo de actividad (Hizo Actividades De Biciturismo, Hizo Actividades De Ecoturismo, Hizo Actividades De Aviturismo) y Viajeros es el total gasto en dolares por tipo por año\n",
    "df_actTurismoTNal=db_turistaNal[(db_turistaNal['Subtema']==\"Hizo Actividades De Biciturismo\") | (db_turistaNal['Subtema']==\"Hizo Actividades De Aviturismo\") | (db_turistaNal['Subtema']==\"Hizo Actividades De Ecoturismo\") ]\n",
    "df_actTurismoTNal.info()\n",
    "df_actTurismoTNal=df_actTurismoTNal.drop(['Tema','Mes'], axis = 1)\n",
    "df_actTurismoTNal"
   ]
  },
  {
   "cell_type": "code",
   "execution_count": 28,
   "metadata": {
    "colab": {
     "base_uri": "https://localhost:8080/",
     "height": 640
    },
    "id": "0W7Tk1M3ljWJ",
    "outputId": "3f6ab7ba-6101-44b1-ca47-18e156bab6a0"
   },
   "outputs": [
    {
     "name": "stdout",
     "output_type": "stream",
     "text": [
      "<class 'pandas.core.frame.DataFrame'>\n",
      "Int64Index: 772 entries, 16155 to 17618\n",
      "Data columns (total 6 columns):\n",
      " #   Column    Non-Null Count  Dtype  \n",
      "---  ------    --------------  -----  \n",
      " 0   Año       772 non-null    int64  \n",
      " 1   Mes       772 non-null    object \n",
      " 2   Tema      772 non-null    object \n",
      " 3   Subtema   772 non-null    object \n",
      " 4   item      772 non-null    object \n",
      " 5   Viajeros  772 non-null    float64\n",
      "dtypes: float64(1), int64(1), object(4)\n",
      "memory usage: 42.2+ KB\n"
     ]
    },
    {
     "data": {
      "text/html": [
       "<div>\n",
       "<style scoped>\n",
       "    .dataframe tbody tr th:only-of-type {\n",
       "        vertical-align: middle;\n",
       "    }\n",
       "\n",
       "    .dataframe tbody tr th {\n",
       "        vertical-align: top;\n",
       "    }\n",
       "\n",
       "    .dataframe thead th {\n",
       "        text-align: right;\n",
       "    }\n",
       "</style>\n",
       "<table border=\"1\" class=\"dataframe\">\n",
       "  <thead>\n",
       "    <tr style=\"text-align: right;\">\n",
       "      <th></th>\n",
       "      <th>Año</th>\n",
       "      <th>Mes</th>\n",
       "      <th>item</th>\n",
       "      <th>Viajeros</th>\n",
       "    </tr>\n",
       "  </thead>\n",
       "  <tbody>\n",
       "    <tr>\n",
       "      <th>16155</th>\n",
       "      <td>2011</td>\n",
       "      <td>Julio</td>\n",
       "      <td>Hotel</td>\n",
       "      <td>75902.0</td>\n",
       "    </tr>\n",
       "    <tr>\n",
       "      <th>16156</th>\n",
       "      <td>2011</td>\n",
       "      <td>Agosto</td>\n",
       "      <td>Hotel</td>\n",
       "      <td>63726.0</td>\n",
       "    </tr>\n",
       "    <tr>\n",
       "      <th>16157</th>\n",
       "      <td>2011</td>\n",
       "      <td>Septiembre</td>\n",
       "      <td>Hotel</td>\n",
       "      <td>64238.0</td>\n",
       "    </tr>\n",
       "    <tr>\n",
       "      <th>16158</th>\n",
       "      <td>2011</td>\n",
       "      <td>Octubre</td>\n",
       "      <td>Hotel</td>\n",
       "      <td>66420.0</td>\n",
       "    </tr>\n",
       "    <tr>\n",
       "      <th>16159</th>\n",
       "      <td>2011</td>\n",
       "      <td>Noviembre</td>\n",
       "      <td>Hotel</td>\n",
       "      <td>71470.0</td>\n",
       "    </tr>\n",
       "    <tr>\n",
       "      <th>...</th>\n",
       "      <td>...</td>\n",
       "      <td>...</td>\n",
       "      <td>...</td>\n",
       "      <td>...</td>\n",
       "    </tr>\n",
       "    <tr>\n",
       "      <th>17613</th>\n",
       "      <td>2019</td>\n",
       "      <td>Agosto</td>\n",
       "      <td>Ns/Nr</td>\n",
       "      <td>240.0</td>\n",
       "    </tr>\n",
       "    <tr>\n",
       "      <th>17614</th>\n",
       "      <td>2019</td>\n",
       "      <td>Septiembre</td>\n",
       "      <td>Ns/Nr</td>\n",
       "      <td>554.0</td>\n",
       "    </tr>\n",
       "    <tr>\n",
       "      <th>17615</th>\n",
       "      <td>2019</td>\n",
       "      <td>Octubre</td>\n",
       "      <td>Ns/Nr</td>\n",
       "      <td>267.0</td>\n",
       "    </tr>\n",
       "    <tr>\n",
       "      <th>17616</th>\n",
       "      <td>2019</td>\n",
       "      <td>Noviembre</td>\n",
       "      <td>Ns/Nr</td>\n",
       "      <td>0.0</td>\n",
       "    </tr>\n",
       "    <tr>\n",
       "      <th>17617</th>\n",
       "      <td>2019</td>\n",
       "      <td>Diciembre</td>\n",
       "      <td>Ns/Nr</td>\n",
       "      <td>0.0</td>\n",
       "    </tr>\n",
       "  </tbody>\n",
       "</table>\n",
       "<p>709 rows × 4 columns</p>\n",
       "</div>"
      ],
      "text/plain": [
       "        Año         Mes   item  Viajeros\n",
       "16155  2011       Julio  Hotel   75902.0\n",
       "16156  2011      Agosto  Hotel   63726.0\n",
       "16157  2011  Septiembre  Hotel   64238.0\n",
       "16158  2011     Octubre  Hotel   66420.0\n",
       "16159  2011   Noviembre  Hotel   71470.0\n",
       "...     ...         ...    ...       ...\n",
       "17613  2019      Agosto  Ns/Nr     240.0\n",
       "17614  2019  Septiembre  Ns/Nr     554.0\n",
       "17615  2019     Octubre  Ns/Nr     267.0\n",
       "17616  2019   Noviembre  Ns/Nr       0.0\n",
       "17617  2019   Diciembre  Ns/Nr       0.0\n",
       "\n",
       "[709 rows x 4 columns]"
      ]
     },
     "execution_count": 28,
     "metadata": {},
     "output_type": "execute_result"
    }
   ],
   "source": [
    "#Crear tabla: df_alojamientoTNal esta es la tabla que tiene el lugar de alojamiento de los turistas nacionales [Año] [Mes] [item] [Viajeros] item es el tipo de alojamiento, Viajeros es el número de viajeros que se alojan en los distintos tipos de alojamiento\n",
    "df_alojamientoTNal=db_turistaNal[db_turistaNal['Subtema']==\"Lugar de alojamiento\"]\n",
    "df_alojamientoTNal.info()\n",
    "df_alojamientoTNal=df_alojamientoTNal.drop(['Tema','Subtema'], axis = 1)\n",
    "df_alojamientoTNal.drop(df_alojamientoTNal[df_alojamientoTNal['Mes'] =='Total'].index, inplace=True)\n",
    "df_alojamientoTNal"
   ]
  },
  {
   "cell_type": "code",
   "execution_count": null,
   "metadata": {
    "id": "4j_ecIM-_m80"
   },
   "outputs": [],
   "source": []
  },
  {
   "cell_type": "markdown",
   "metadata": {
    "id": "dHsfQTrOc7XW"
   },
   "source": [
    "# Exploratory Data Analysis"
   ]
  },
  {
   "cell_type": "markdown",
   "metadata": {
    "id": "xwugmko5d2UV"
   },
   "source": [
    "## Flujos Turisticos"
   ]
  },
  {
   "cell_type": "code",
   "execution_count": null,
   "metadata": {
    "id": "bs1II7jHeCHT"
   },
   "outputs": [],
   "source": []
  },
  {
   "cell_type": "markdown",
   "metadata": {
    "id": "GvLQFQnbeFI7"
   },
   "source": [
    "## Puestos de control"
   ]
  },
  {
   "cell_type": "code",
   "execution_count": null,
   "metadata": {
    "id": "1YM84eVIeMhj"
   },
   "outputs": [],
   "source": []
  },
  {
   "cell_type": "markdown",
   "metadata": {
    "id": "pbTfcQ4geOJr"
   },
   "source": [
    "## International Tourists"
   ]
  },
  {
   "cell_type": "code",
   "execution_count": null,
   "metadata": {
    "id": "uhydiMvieaLC"
   },
   "outputs": [],
   "source": []
  },
  {
   "cell_type": "markdown",
   "metadata": {
    "id": "CKuOn4h1ebDi"
   },
   "source": [
    "## National Tourists"
   ]
  },
  {
   "cell_type": "code",
   "execution_count": 29,
   "metadata": {
    "colab": {
     "base_uri": "https://localhost:8080/",
     "height": 542
    },
    "id": "ghhpHYq2myIU",
    "outputId": "1ff824ea-638e-4ede-f693-485b41b68b3e"
   },
   "outputs": [
    {
     "ename": "NameError",
     "evalue": "name 'px' is not defined",
     "output_type": "error",
     "traceback": [
      "\u001b[0;31m---------------------------------------------------------------------------\u001b[0m",
      "\u001b[0;31mNameError\u001b[0m                                 Traceback (most recent call last)",
      "\u001b[0;32m<ipython-input-29-1cdca113f757>\u001b[0m in \u001b[0;36m<module>\u001b[0;34m\u001b[0m\n\u001b[0;32m----> 1\u001b[0;31m fig = px.bar(df_motViajeTNal,x='item',y='Viajeros', color='Mes',\n\u001b[0m\u001b[1;32m      2\u001b[0m              labels={\n\u001b[1;32m      3\u001b[0m                      \u001b[0;34m\"item\"\u001b[0m\u001b[0;34m:\u001b[0m \u001b[0;34m\"Motivo de viaje\"\u001b[0m\u001b[0;34m,\u001b[0m\u001b[0;34m\u001b[0m\u001b[0;34m\u001b[0m\u001b[0m\n\u001b[1;32m      4\u001b[0m                      \u001b[0;34m\"Viajeros\"\u001b[0m\u001b[0;34m:\u001b[0m \u001b[0;34m\"Numero de turistas nacionales\"\u001b[0m\u001b[0;34m,\u001b[0m\u001b[0;34m\u001b[0m\u001b[0;34m\u001b[0m\u001b[0m\n\u001b[1;32m      5\u001b[0m                      \u001b[0;34m\"Año\"\u001b[0m\u001b[0;34m:\u001b[0m \u001b[0;34m\"Mes\"\u001b[0m\u001b[0;34m\u001b[0m\u001b[0;34m\u001b[0m\u001b[0m\n",
      "\u001b[0;31mNameError\u001b[0m: name 'px' is not defined"
     ]
    }
   ],
   "source": [
    "\n",
    "fig = px.bar(df_motViajeTNal,x='item',y='Viajeros', color='Mes',\n",
    "             labels={\n",
    "                     \"item\": \"Motivo de viaje\",\n",
    "                     \"Viajeros\": \"Numero de turistas nacionales\",\n",
    "                     \"Año\": \"Mes\"\n",
    "                 },title = \"Numero de viajeros por motivo de viaje\")\n",
    "fig.show()"
   ]
  },
  {
   "cell_type": "markdown",
   "metadata": {
    "id": "NNeaZm8tQLZa"
   },
   "source": [
    "The reason for travel of domestic tourists is clearly to visit family or friends, followed by business travel. Visits to family and friends clearly occur in the months of December and January."
   ]
  },
  {
   "cell_type": "code",
   "execution_count": 30,
   "metadata": {
    "colab": {
     "base_uri": "https://localhost:8080/",
     "height": 542
    },
    "id": "3-kQtvQWrdi1",
    "outputId": "c468a195-0aca-4710-c899-54d40dd9746b"
   },
   "outputs": [
    {
     "ename": "NameError",
     "evalue": "name 'px' is not defined",
     "output_type": "error",
     "traceback": [
      "\u001b[0;31m---------------------------------------------------------------------------\u001b[0m",
      "\u001b[0;31mNameError\u001b[0m                                 Traceback (most recent call last)",
      "\u001b[0;32m<ipython-input-30-7378455b7fcd>\u001b[0m in \u001b[0;36m<module>\u001b[0;34m\u001b[0m\n\u001b[0;32m----> 1\u001b[0;31m fig = px.bar(df_distEtariaTNal,x='item',y='Viajeros', color='Mes',\n\u001b[0m\u001b[1;32m      2\u001b[0m              labels={\n\u001b[1;32m      3\u001b[0m                      \u001b[0;34m\"item\"\u001b[0m\u001b[0;34m:\u001b[0m \u001b[0;34m\"Edad\"\u001b[0m\u001b[0;34m,\u001b[0m\u001b[0;34m\u001b[0m\u001b[0;34m\u001b[0m\u001b[0m\n\u001b[1;32m      4\u001b[0m                      \u001b[0;34m\"Viajeros\"\u001b[0m\u001b[0;34m:\u001b[0m \u001b[0;34m\"Numero de turistas nacionales\"\u001b[0m\u001b[0;34m,\u001b[0m\u001b[0;34m\u001b[0m\u001b[0;34m\u001b[0m\u001b[0m\n\u001b[1;32m      5\u001b[0m                      \u001b[0;34m\"Año\"\u001b[0m\u001b[0;34m:\u001b[0m \u001b[0;34m\"Año\"\u001b[0m\u001b[0;34m\u001b[0m\u001b[0;34m\u001b[0m\u001b[0m\n",
      "\u001b[0;31mNameError\u001b[0m: name 'px' is not defined"
     ]
    }
   ],
   "source": [
    "\n",
    "fig = px.bar(df_distEtariaTNal,x='item',y='Viajeros', color='Mes',\n",
    "             labels={\n",
    "                     \"item\": \"Edad\",\n",
    "                     \"Viajeros\": \"Numero de turistas nacionales\",\n",
    "                     \"Año\": \"Año\"\n",
    "                 },title = \"Numero de viajeros por distribución etaria\")\n",
    "fig.show()"
   ]
  },
  {
   "cell_type": "markdown",
   "metadata": {
    "id": "Apw0lu0_PWNX"
   },
   "source": [
    "This graph shows that domestic tourists between 31 and 45 years of age travel the most, followed by tourists between 46 and 60 and between 18 and 30 years of age. It is very rare that there are no tourists under 18 years of age. This is possibly due to the fact that the data of these tourists is not registered."
   ]
  },
  {
   "cell_type": "code",
   "execution_count": 31,
   "metadata": {
    "colab": {
     "base_uri": "https://localhost:8080/",
     "height": 542
    },
    "id": "jTGr2YNXrKC5",
    "outputId": "01658166-49a9-4bf4-919c-c64a8d2000cd"
   },
   "outputs": [
    {
     "ename": "NameError",
     "evalue": "name 'px' is not defined",
     "output_type": "error",
     "traceback": [
      "\u001b[0;31m---------------------------------------------------------------------------\u001b[0m",
      "\u001b[0;31mNameError\u001b[0m                                 Traceback (most recent call last)",
      "\u001b[0;32m<ipython-input-31-586372771967>\u001b[0m in \u001b[0;36m<module>\u001b[0;34m\u001b[0m\n\u001b[0;32m----> 1\u001b[0;31m fig = px.bar(df_distGastoTNal,x='item',y='Viajeros',color='Año',\n\u001b[0m\u001b[1;32m      2\u001b[0m              labels={\n\u001b[1;32m      3\u001b[0m                      \u001b[0;34m\"item\"\u001b[0m\u001b[0;34m:\u001b[0m \u001b[0;34m\"Tipo de gasto\"\u001b[0m\u001b[0;34m,\u001b[0m\u001b[0;34m\u001b[0m\u001b[0;34m\u001b[0m\u001b[0m\n\u001b[1;32m      4\u001b[0m                      \u001b[0;34m\"Viajeros\"\u001b[0m\u001b[0;34m:\u001b[0m \u001b[0;34m\"Gasto de turistas nacionales\"\u001b[0m\u001b[0;34m,\u001b[0m\u001b[0;34m\u001b[0m\u001b[0;34m\u001b[0m\u001b[0m\n\u001b[1;32m      5\u001b[0m                      \u001b[0;34m\"Año\"\u001b[0m\u001b[0;34m:\u001b[0m \u001b[0;34m\"Año\"\u001b[0m\u001b[0;34m\u001b[0m\u001b[0;34m\u001b[0m\u001b[0m\n",
      "\u001b[0;31mNameError\u001b[0m: name 'px' is not defined"
     ]
    }
   ],
   "source": [
    "\n",
    "fig = px.bar(df_distGastoTNal,x='item',y='Viajeros',color='Año',\n",
    "             labels={\n",
    "                     \"item\": \"Tipo de gasto\",\n",
    "                     \"Viajeros\": \"Gasto de turistas nacionales\",\n",
    "                     \"Año\": \"Año\"\n",
    "                 },title = \"Distribución del gasto de los turistas nacionales\")\n",
    "fig.show()"
   ]
  },
  {
   "cell_type": "markdown",
   "metadata": {
    "id": "6NDYSm1gOjQa"
   },
   "source": [
    "This graph shows that domestic tourists spend more money on food, domestic transportation and shopping. They do not spend as much money on accommodation, probably because as we can see in the accommodation distribution graph, domestic tourists stay at their own home or at a friend's or relative's home."
   ]
  },
  {
   "cell_type": "code",
   "execution_count": null,
   "metadata": {
    "id": "jbDr59LXGqjc"
   },
   "outputs": [],
   "source": []
  },
  {
   "cell_type": "code",
   "execution_count": 32,
   "metadata": {
    "colab": {
     "base_uri": "https://localhost:8080/",
     "height": 542
    },
    "id": "uGm-1wBA4dCr",
    "outputId": "058f3c06-553d-43d0-cf88-d6befb7adbde"
   },
   "outputs": [
    {
     "ename": "NameError",
     "evalue": "name 'px' is not defined",
     "output_type": "error",
     "traceback": [
      "\u001b[0;31m---------------------------------------------------------------------------\u001b[0m",
      "\u001b[0;31mNameError\u001b[0m                                 Traceback (most recent call last)",
      "\u001b[0;32m<ipython-input-32-002f6b333524>\u001b[0m in \u001b[0;36m<module>\u001b[0;34m\u001b[0m\n\u001b[0;32m----> 1\u001b[0;31m fig = px.bar(df_distGastoTNal,x='Año',y='Viajeros',color='item',\n\u001b[0m\u001b[1;32m      2\u001b[0m              labels={\n\u001b[1;32m      3\u001b[0m                      \u001b[0;34m\"item\"\u001b[0m\u001b[0;34m:\u001b[0m \u001b[0;34m\"Tipo de gasto\"\u001b[0m\u001b[0;34m,\u001b[0m\u001b[0;34m\u001b[0m\u001b[0;34m\u001b[0m\u001b[0m\n\u001b[1;32m      4\u001b[0m                      \u001b[0;34m\"Viajeros\"\u001b[0m\u001b[0;34m:\u001b[0m \u001b[0;34m\"Gasto de turistas nacionales\"\u001b[0m\u001b[0;34m,\u001b[0m\u001b[0;34m\u001b[0m\u001b[0;34m\u001b[0m\u001b[0m\n\u001b[1;32m      5\u001b[0m                      \u001b[0;34m\"Año\"\u001b[0m\u001b[0;34m:\u001b[0m \u001b[0;34m\"Año\"\u001b[0m\u001b[0;34m\u001b[0m\u001b[0;34m\u001b[0m\u001b[0m\n",
      "\u001b[0;31mNameError\u001b[0m: name 'px' is not defined"
     ]
    }
   ],
   "source": [
    "fig = px.bar(df_distGastoTNal,x='Año',y='Viajeros',color='item',\n",
    "             labels={\n",
    "                     \"item\": \"Tipo de gasto\",\n",
    "                     \"Viajeros\": \"Gasto de turistas nacionales\",\n",
    "                     \"Año\": \"Año\"\n",
    "                 },title = \"Distribución del gasto de los turistas\")\n",
    "fig.show()"
   ]
  },
  {
   "cell_type": "code",
   "execution_count": null,
   "metadata": {
    "id": "QJ86o1mBOfGV"
   },
   "outputs": [],
   "source": []
  },
  {
   "cell_type": "code",
   "execution_count": 33,
   "metadata": {
    "colab": {
     "base_uri": "https://localhost:8080/",
     "height": 542
    },
    "id": "p9j-UtP0-Bt6",
    "outputId": "58c60a81-cf26-4e61-9f58-d8fda7f056c4"
   },
   "outputs": [
    {
     "ename": "NameError",
     "evalue": "name 'px' is not defined",
     "output_type": "error",
     "traceback": [
      "\u001b[0;31m---------------------------------------------------------------------------\u001b[0m",
      "\u001b[0;31mNameError\u001b[0m                                 Traceback (most recent call last)",
      "\u001b[0;32m<ipython-input-33-684b8f4d6e13>\u001b[0m in \u001b[0;36m<module>\u001b[0;34m\u001b[0m\n\u001b[0;32m----> 1\u001b[0;31m fig = px.bar(df_generoTNal,x='Año',y='Viajeros',color='item',\n\u001b[0m\u001b[1;32m      2\u001b[0m              labels={\n\u001b[1;32m      3\u001b[0m                      \u001b[0;34m\"item\"\u001b[0m\u001b[0;34m:\u001b[0m \u001b[0;34m\"Género\"\u001b[0m\u001b[0;34m,\u001b[0m\u001b[0;34m\u001b[0m\u001b[0;34m\u001b[0m\u001b[0m\n\u001b[1;32m      4\u001b[0m                      \u001b[0;34m\"Viajeros\"\u001b[0m\u001b[0;34m:\u001b[0m \u001b[0;34m\"Número de turistas nacionales\"\u001b[0m\u001b[0;34m,\u001b[0m\u001b[0;34m\u001b[0m\u001b[0;34m\u001b[0m\u001b[0m\n\u001b[1;32m      5\u001b[0m                      \u001b[0;34m\"Año\"\u001b[0m\u001b[0;34m:\u001b[0m \u001b[0;34m\"Año\"\u001b[0m\u001b[0;34m\u001b[0m\u001b[0;34m\u001b[0m\u001b[0m\n",
      "\u001b[0;31mNameError\u001b[0m: name 'px' is not defined"
     ]
    }
   ],
   "source": [
    "\n",
    "fig = px.bar(df_generoTNal,x='Año',y='Viajeros',color='item',\n",
    "             labels={\n",
    "                     \"item\": \"Género\",\n",
    "                     \"Viajeros\": \"Número de turistas nacionales\",\n",
    "                     \"Año\": \"Año\"\n",
    "                 },title = \"Distribución de los turistas nacionales por genero\")\n",
    "fig.show()"
   ]
  },
  {
   "cell_type": "markdown",
   "metadata": {
    "id": "0cRJ1BMkFwgK"
   },
   "source": [
    "You can observe in this graph that the number of tourists has increased over the years.  Specifically in the years 2018 and 2019 there are more male tourists than female."
   ]
  },
  {
   "cell_type": "code",
   "execution_count": null,
   "metadata": {
    "id": "mZjatfmPFu5p"
   },
   "outputs": [],
   "source": []
  },
  {
   "cell_type": "code",
   "execution_count": 34,
   "metadata": {
    "colab": {
     "base_uri": "https://localhost:8080/",
     "height": 695
    },
    "id": "rKOf3KKVAeSz",
    "outputId": "e67102da-2204-4cc8-f444-4f7f598ddef8"
   },
   "outputs": [
    {
     "name": "stdout",
     "output_type": "stream",
     "text": [
      "count    7.090000e+02\n",
      "mean     8.863427e+04\n",
      "std      1.768546e+05\n",
      "min      0.000000e+00\n",
      "25%      2.251000e+03\n",
      "50%      8.372000e+03\n",
      "75%      7.499000e+04\n",
      "max      1.274240e+06\n",
      "Name: Viajeros, dtype: float64\n"
     ]
    },
    {
     "ename": "NameError",
     "evalue": "name 'px' is not defined",
     "output_type": "error",
     "traceback": [
      "\u001b[0;31m---------------------------------------------------------------------------\u001b[0m",
      "\u001b[0;31mNameError\u001b[0m                                 Traceback (most recent call last)",
      "\u001b[0;32m<ipython-input-34-5cb0850440ec>\u001b[0m in \u001b[0;36m<module>\u001b[0;34m\u001b[0m\n\u001b[1;32m      1\u001b[0m \u001b[0mprint\u001b[0m\u001b[0;34m(\u001b[0m\u001b[0mdf_alojamientoTNal\u001b[0m\u001b[0;34m[\u001b[0m\u001b[0;34m'Viajeros'\u001b[0m\u001b[0;34m]\u001b[0m\u001b[0;34m.\u001b[0m\u001b[0mdescribe\u001b[0m\u001b[0;34m(\u001b[0m\u001b[0;34m)\u001b[0m\u001b[0;34m)\u001b[0m\u001b[0;34m\u001b[0m\u001b[0;34m\u001b[0m\u001b[0m\n\u001b[0;32m----> 2\u001b[0;31m fig = px.bar(df_alojamientoTNal,x='item',y='Viajeros',color='Año',\n\u001b[0m\u001b[1;32m      3\u001b[0m              labels={\n\u001b[1;32m      4\u001b[0m                      \u001b[0;34m\"item\"\u001b[0m\u001b[0;34m:\u001b[0m \u001b[0;34m\"Tipo de alojamiento\"\u001b[0m\u001b[0;34m,\u001b[0m\u001b[0;34m\u001b[0m\u001b[0;34m\u001b[0m\u001b[0m\n\u001b[1;32m      5\u001b[0m                      \u001b[0;34m\"Viajeros\"\u001b[0m\u001b[0;34m:\u001b[0m \u001b[0;34m\"Número de turistas nacionales\"\u001b[0m\u001b[0;34m,\u001b[0m\u001b[0;34m\u001b[0m\u001b[0;34m\u001b[0m\u001b[0m\n",
      "\u001b[0;31mNameError\u001b[0m: name 'px' is not defined"
     ]
    }
   ],
   "source": [
    "print(df_alojamientoTNal['Viajeros'].describe())\n",
    "fig = px.bar(df_alojamientoTNal,x='item',y='Viajeros',color='Año',\n",
    "             labels={\n",
    "                     \"item\": \"Tipo de alojamiento\",\n",
    "                     \"Viajeros\": \"Número de turistas nacionales\",\n",
    "                     \"Año\": \"Año\"\n",
    "                 },title = \"Distribución de los turistas nacionales segun el tipo de alojamiento\")\n",
    "fig.show()"
   ]
  },
  {
   "cell_type": "markdown",
   "metadata": {
    "id": "K01G4esV60iG"
   },
   "source": [
    "In this chart we have to join categories. We are waiting for the company to tell us which categories can be joined. However, in the graph you can see that domestic tourists mostly stay at a friend's or relative's house (without paying) and sometimes in a hotel. Very few times they make use of aparthotels, hostels or AirBNB rentals.\n"
   ]
  },
  {
   "cell_type": "code",
   "execution_count": 35,
   "metadata": {
    "id": "ZNdQFz7XdK5V"
   },
   "outputs": [
    {
     "data": {
      "text/html": [
       "<div>\n",
       "<style scoped>\n",
       "    .dataframe tbody tr th:only-of-type {\n",
       "        vertical-align: middle;\n",
       "    }\n",
       "\n",
       "    .dataframe tbody tr th {\n",
       "        vertical-align: top;\n",
       "    }\n",
       "\n",
       "    .dataframe thead th {\n",
       "        text-align: right;\n",
       "    }\n",
       "</style>\n",
       "<table border=\"1\" class=\"dataframe\">\n",
       "  <thead>\n",
       "    <tr style=\"text-align: right;\">\n",
       "      <th></th>\n",
       "      <th>Tema</th>\n",
       "      <th>item</th>\n",
       "      <th>Viajeros</th>\n",
       "    </tr>\n",
       "  </thead>\n",
       "  <tbody>\n",
       "    <tr>\n",
       "      <th>18507</th>\n",
       "      <td>Turistas Internacionales</td>\n",
       "      <td>Monserrate</td>\n",
       "      <td>556043.0</td>\n",
       "    </tr>\n",
       "    <tr>\n",
       "      <th>18508</th>\n",
       "      <td>Turistas Internacionales</td>\n",
       "      <td>Corferias</td>\n",
       "      <td>72794.0</td>\n",
       "    </tr>\n",
       "    <tr>\n",
       "      <th>18509</th>\n",
       "      <td>Turistas Internacionales</td>\n",
       "      <td>Zonas G y T</td>\n",
       "      <td>273972.0</td>\n",
       "    </tr>\n",
       "    <tr>\n",
       "      <th>18510</th>\n",
       "      <td>Turistas Internacionales</td>\n",
       "      <td>Usaquen</td>\n",
       "      <td>152248.0</td>\n",
       "    </tr>\n",
       "    <tr>\n",
       "      <th>18511</th>\n",
       "      <td>Turistas Internacionales</td>\n",
       "      <td>Humedales</td>\n",
       "      <td>42619.0</td>\n",
       "    </tr>\n",
       "    <tr>\n",
       "      <th>18512</th>\n",
       "      <td>Turistas Internacionales</td>\n",
       "      <td>Parques</td>\n",
       "      <td>160902.0</td>\n",
       "    </tr>\n",
       "    <tr>\n",
       "      <th>18513</th>\n",
       "      <td>Turistas Internacionales</td>\n",
       "      <td>Centros Comerciales</td>\n",
       "      <td>720721.0</td>\n",
       "    </tr>\n",
       "    <tr>\n",
       "      <th>18514</th>\n",
       "      <td>Turistas Internacionales</td>\n",
       "      <td>Otros</td>\n",
       "      <td>927749.0</td>\n",
       "    </tr>\n",
       "    <tr>\n",
       "      <th>18515</th>\n",
       "      <td>Turistas Internacionales</td>\n",
       "      <td>Tansmicable</td>\n",
       "      <td>50888.0</td>\n",
       "    </tr>\n",
       "    <tr>\n",
       "      <th>18516</th>\n",
       "      <td>Turistas Nacionales</td>\n",
       "      <td>Monserrate</td>\n",
       "      <td>747243.0</td>\n",
       "    </tr>\n",
       "    <tr>\n",
       "      <th>18517</th>\n",
       "      <td>Turistas Nacionales</td>\n",
       "      <td>Corferias</td>\n",
       "      <td>229005.0</td>\n",
       "    </tr>\n",
       "    <tr>\n",
       "      <th>18518</th>\n",
       "      <td>Turistas Nacionales</td>\n",
       "      <td>Zonas G y T</td>\n",
       "      <td>415425.0</td>\n",
       "    </tr>\n",
       "    <tr>\n",
       "      <th>18519</th>\n",
       "      <td>Turistas Nacionales</td>\n",
       "      <td>Usaquen</td>\n",
       "      <td>218828.0</td>\n",
       "    </tr>\n",
       "    <tr>\n",
       "      <th>18520</th>\n",
       "      <td>Turistas Nacionales</td>\n",
       "      <td>Humedales</td>\n",
       "      <td>69591.0</td>\n",
       "    </tr>\n",
       "    <tr>\n",
       "      <th>18521</th>\n",
       "      <td>Turistas Nacionales</td>\n",
       "      <td>Parques</td>\n",
       "      <td>386818.0</td>\n",
       "    </tr>\n",
       "    <tr>\n",
       "      <th>18522</th>\n",
       "      <td>Turistas Nacionales</td>\n",
       "      <td>Centros Comerciales</td>\n",
       "      <td>2121980.0</td>\n",
       "    </tr>\n",
       "    <tr>\n",
       "      <th>18523</th>\n",
       "      <td>Turistas Nacionales</td>\n",
       "      <td>Otros</td>\n",
       "      <td>3310004.0</td>\n",
       "    </tr>\n",
       "    <tr>\n",
       "      <th>18524</th>\n",
       "      <td>Turistas Nacionales</td>\n",
       "      <td>Tansmicable</td>\n",
       "      <td>138886.0</td>\n",
       "    </tr>\n",
       "  </tbody>\n",
       "</table>\n",
       "</div>"
      ],
      "text/plain": [
       "                           Tema                 item   Viajeros\n",
       "18507  Turistas Internacionales           Monserrate   556043.0\n",
       "18508  Turistas Internacionales            Corferias    72794.0\n",
       "18509  Turistas Internacionales          Zonas G y T   273972.0\n",
       "18510  Turistas Internacionales              Usaquen   152248.0\n",
       "18511  Turistas Internacionales            Humedales    42619.0\n",
       "18512  Turistas Internacionales              Parques   160902.0\n",
       "18513  Turistas Internacionales  Centros Comerciales   720721.0\n",
       "18514  Turistas Internacionales                Otros   927749.0\n",
       "18515  Turistas Internacionales          Tansmicable    50888.0\n",
       "18516       Turistas Nacionales           Monserrate   747243.0\n",
       "18517       Turistas Nacionales            Corferias   229005.0\n",
       "18518       Turistas Nacionales          Zonas G y T   415425.0\n",
       "18519       Turistas Nacionales              Usaquen   218828.0\n",
       "18520       Turistas Nacionales            Humedales    69591.0\n",
       "18521       Turistas Nacionales              Parques   386818.0\n",
       "18522       Turistas Nacionales  Centros Comerciales  2121980.0\n",
       "18523       Turistas Nacionales                Otros  3310004.0\n",
       "18524       Turistas Nacionales          Tansmicable   138886.0"
      ]
     },
     "execution_count": 35,
     "metadata": {},
     "output_type": "execute_result"
    }
   ],
   "source": [
    "db_turista_Atract"
   ]
  },
  {
   "cell_type": "code",
   "execution_count": 36,
   "metadata": {
    "colab": {
     "base_uri": "https://localhost:8080/",
     "height": 417
    },
    "id": "8XTsGjXvecxp",
    "outputId": "095128f6-c07a-4d46-a346-bb60567bfcd8"
   },
   "outputs": [
    {
     "ename": "NameError",
     "evalue": "name 'px' is not defined",
     "output_type": "error",
     "traceback": [
      "\u001b[0;31m---------------------------------------------------------------------------\u001b[0m",
      "\u001b[0;31mNameError\u001b[0m                                 Traceback (most recent call last)",
      "\u001b[0;32m<ipython-input-36-0d83fe45f379>\u001b[0m in \u001b[0;36m<module>\u001b[0;34m\u001b[0m\n\u001b[0;32m----> 1\u001b[0;31m fig = px.bar(db_turista_Atract, x=\"Tema\", y=\"Viajeros\",\n\u001b[0m\u001b[1;32m      2\u001b[0m              \u001b[0mcolor\u001b[0m\u001b[0;34m=\u001b[0m\u001b[0;34m'item'\u001b[0m\u001b[0;34m,\u001b[0m\u001b[0;34m\u001b[0m\u001b[0;34m\u001b[0m\u001b[0m\n\u001b[1;32m      3\u001b[0m              labels={\n\u001b[1;32m      4\u001b[0m                      \u001b[0;34m\"item\"\u001b[0m\u001b[0;34m:\u001b[0m \u001b[0;34m\"Tipo de atractivo\"\u001b[0m\u001b[0;34m,\u001b[0m\u001b[0;34m\u001b[0m\u001b[0;34m\u001b[0m\u001b[0m\n\u001b[1;32m      5\u001b[0m                      \u001b[0;34m\"Viajeros\"\u001b[0m\u001b[0;34m:\u001b[0m \u001b[0;34m\"Número de turistas nacionales e internacionales\"\u001b[0m\u001b[0;34m,\u001b[0m\u001b[0;34m\u001b[0m\u001b[0;34m\u001b[0m\u001b[0m\n",
      "\u001b[0;31mNameError\u001b[0m: name 'px' is not defined"
     ]
    }
   ],
   "source": [
    "\n",
    "fig = px.bar(db_turista_Atract, x=\"Tema\", y=\"Viajeros\",\n",
    "             color='item',\n",
    "             labels={\n",
    "                     \"item\": \"Tipo de atractivo\",\n",
    "                     \"Viajeros\": \"Número de turistas nacionales e internacionales\",\n",
    "                     \"Tema\": \"Tipo de turistas\"\n",
    "                 },barmode='group',title = \"Comparativos turisticos\"\n",
    "             ,height=400)\n",
    "fig.show()"
   ]
  },
  {
   "cell_type": "markdown",
   "metadata": {
    "id": "KH58jqQwhGpc"
   },
   "source": [
    "Domestic and international tourists visit shopping malls most frequently, followed by the Monserrate tourist attraction. The least visited tourist attraction by both national and international tourists is the wetlands. The behavior of both types of tourists is similar."
   ]
  },
  {
   "cell_type": "markdown",
   "metadata": {
    "id": "gr7DGKa2K766"
   },
   "source": [
    "# Model Regressions"
   ]
  },
  {
   "cell_type": "code",
   "execution_count": 90,
   "metadata": {
    "id": "19OFsJn2WYjA"
   },
   "outputs": [],
   "source": [
    "# Retrieving Used Libraries\n",
    "\n",
    "import matplotlib.pyplot as plt\n",
    "import seaborn as sns\n",
    "from scipy.stats import chi2_contingency, ttest_ind\n",
    "import statsmodels.formula.api as sfm"
   ]
  },
  {
   "cell_type": "code",
   "execution_count": 60,
   "metadata": {},
   "outputs": [
    {
     "data": {
      "text/html": [
       "<div>\n",
       "<style scoped>\n",
       "    .dataframe tbody tr th:only-of-type {\n",
       "        vertical-align: middle;\n",
       "    }\n",
       "\n",
       "    .dataframe tbody tr th {\n",
       "        vertical-align: top;\n",
       "    }\n",
       "\n",
       "    .dataframe thead th {\n",
       "        text-align: right;\n",
       "    }\n",
       "</style>\n",
       "<table border=\"1\" class=\"dataframe\">\n",
       "  <thead>\n",
       "    <tr style=\"text-align: right;\">\n",
       "      <th></th>\n",
       "      <th>Mes</th>\n",
       "      <th>item</th>\n",
       "      <th>Viajeros</th>\n",
       "    </tr>\n",
       "  </thead>\n",
       "  <tbody>\n",
       "    <tr>\n",
       "      <th>14972</th>\n",
       "      <td>Enero</td>\n",
       "      <td>Una Noche</td>\n",
       "      <td>190489.0</td>\n",
       "    </tr>\n",
       "    <tr>\n",
       "      <th>14973</th>\n",
       "      <td>Febrero</td>\n",
       "      <td>Una Noche</td>\n",
       "      <td>193702.0</td>\n",
       "    </tr>\n",
       "    <tr>\n",
       "      <th>14974</th>\n",
       "      <td>Marzo</td>\n",
       "      <td>Una Noche</td>\n",
       "      <td>229595.0</td>\n",
       "    </tr>\n",
       "    <tr>\n",
       "      <th>14975</th>\n",
       "      <td>Abril</td>\n",
       "      <td>Una Noche</td>\n",
       "      <td>190881.0</td>\n",
       "    </tr>\n",
       "    <tr>\n",
       "      <th>14976</th>\n",
       "      <td>Mayo</td>\n",
       "      <td>Una Noche</td>\n",
       "      <td>201518.0</td>\n",
       "    </tr>\n",
       "    <tr>\n",
       "      <th>...</th>\n",
       "      <td>...</td>\n",
       "      <td>...</td>\n",
       "      <td>...</td>\n",
       "    </tr>\n",
       "    <tr>\n",
       "      <th>15500</th>\n",
       "      <td>Septiembre</td>\n",
       "      <td>Mas de 31 Noches</td>\n",
       "      <td>12920.0</td>\n",
       "    </tr>\n",
       "    <tr>\n",
       "      <th>15501</th>\n",
       "      <td>Octubre</td>\n",
       "      <td>Mas de 31 Noches</td>\n",
       "      <td>16645.0</td>\n",
       "    </tr>\n",
       "    <tr>\n",
       "      <th>15502</th>\n",
       "      <td>Noviembre</td>\n",
       "      <td>Mas de 31 Noches</td>\n",
       "      <td>11140.0</td>\n",
       "    </tr>\n",
       "    <tr>\n",
       "      <th>15503</th>\n",
       "      <td>Diciembre</td>\n",
       "      <td>Mas de 31 Noches</td>\n",
       "      <td>9256.0</td>\n",
       "    </tr>\n",
       "    <tr>\n",
       "      <th>15504</th>\n",
       "      <td>Total</td>\n",
       "      <td>Mas de 31 Noches</td>\n",
       "      <td>186206.0</td>\n",
       "    </tr>\n",
       "  </tbody>\n",
       "</table>\n",
       "<p>65 rows × 3 columns</p>\n",
       "</div>"
      ],
      "text/plain": [
       "              Mes              item  Viajeros\n",
       "14972       Enero         Una Noche  190489.0\n",
       "14973     Febrero         Una Noche  193702.0\n",
       "14974       Marzo         Una Noche  229595.0\n",
       "14975       Abril         Una Noche  190881.0\n",
       "14976        Mayo         Una Noche  201518.0\n",
       "...           ...               ...       ...\n",
       "15500  Septiembre  Mas de 31 Noches   12920.0\n",
       "15501     Octubre  Mas de 31 Noches   16645.0\n",
       "15502   Noviembre  Mas de 31 Noches   11140.0\n",
       "15503   Diciembre  Mas de 31 Noches    9256.0\n",
       "15504       Total  Mas de 31 Noches  186206.0\n",
       "\n",
       "[65 rows x 3 columns]"
      ]
     },
     "execution_count": 60,
     "metadata": {},
     "output_type": "execute_result"
    }
   ],
   "source": [
    "df1 = db_turistaNal[(db_turistaNal['Subtema']=='Noches Percnotadas') & (db_turistaNal['Año']==2019)]\n",
    "df1 = df1.drop(['Año','Tema','Subtema'],axis=1)\n",
    "df1"
   ]
  },
  {
   "cell_type": "code",
   "execution_count": 62,
   "metadata": {
    "colab": {
     "base_uri": "https://localhost:8080/",
     "height": 419
    },
    "id": "orfg5GUEY11o",
    "outputId": "891e4523-9c77-436c-9e2e-c0b02c9c7880"
   },
   "outputs": [
    {
     "name": "stderr",
     "output_type": "stream",
     "text": [
      "<ipython-input-62-b062cb9a73fa>:1: UserWarning: Boolean Series key will be reindexed to match DataFrame index.\n",
      "  df2 = df_motViajeTNal[db_turistaNal['Año']==2019]\n"
     ]
    },
    {
     "data": {
      "text/html": [
       "<div>\n",
       "<style scoped>\n",
       "    .dataframe tbody tr th:only-of-type {\n",
       "        vertical-align: middle;\n",
       "    }\n",
       "\n",
       "    .dataframe tbody tr th {\n",
       "        vertical-align: top;\n",
       "    }\n",
       "\n",
       "    .dataframe thead th {\n",
       "        text-align: right;\n",
       "    }\n",
       "</style>\n",
       "<table border=\"1\" class=\"dataframe\">\n",
       "  <thead>\n",
       "    <tr style=\"text-align: right;\">\n",
       "      <th></th>\n",
       "      <th>Mes</th>\n",
       "      <th>item</th>\n",
       "      <th>Viajeros</th>\n",
       "    </tr>\n",
       "  </thead>\n",
       "  <tbody>\n",
       "    <tr>\n",
       "      <th>3315</th>\n",
       "      <td>Enero</td>\n",
       "      <td>Vacaciones/recreación/Ocio</td>\n",
       "      <td>123863.0</td>\n",
       "    </tr>\n",
       "    <tr>\n",
       "      <th>3316</th>\n",
       "      <td>Febrero</td>\n",
       "      <td>Vacaciones/recreación/Ocio</td>\n",
       "      <td>122564.0</td>\n",
       "    </tr>\n",
       "    <tr>\n",
       "      <th>3317</th>\n",
       "      <td>Marzo</td>\n",
       "      <td>Vacaciones/recreación/Ocio</td>\n",
       "      <td>150348.0</td>\n",
       "    </tr>\n",
       "    <tr>\n",
       "      <th>3318</th>\n",
       "      <td>Abril</td>\n",
       "      <td>Vacaciones/recreación/Ocio</td>\n",
       "      <td>126448.0</td>\n",
       "    </tr>\n",
       "    <tr>\n",
       "      <th>3319</th>\n",
       "      <td>Mayo</td>\n",
       "      <td>Vacaciones/recreación/Ocio</td>\n",
       "      <td>116768.0</td>\n",
       "    </tr>\n",
       "    <tr>\n",
       "      <th>...</th>\n",
       "      <td>...</td>\n",
       "      <td>...</td>\n",
       "      <td>...</td>\n",
       "    </tr>\n",
       "    <tr>\n",
       "      <th>3738</th>\n",
       "      <td>Agosto</td>\n",
       "      <td>Otros motivos</td>\n",
       "      <td>74805.0</td>\n",
       "    </tr>\n",
       "    <tr>\n",
       "      <th>3739</th>\n",
       "      <td>Septiembre</td>\n",
       "      <td>Otros motivos</td>\n",
       "      <td>90249.0</td>\n",
       "    </tr>\n",
       "    <tr>\n",
       "      <th>3740</th>\n",
       "      <td>Octubre</td>\n",
       "      <td>Otros motivos</td>\n",
       "      <td>88659.0</td>\n",
       "    </tr>\n",
       "    <tr>\n",
       "      <th>3741</th>\n",
       "      <td>Noviembre</td>\n",
       "      <td>Otros motivos</td>\n",
       "      <td>86080.0</td>\n",
       "    </tr>\n",
       "    <tr>\n",
       "      <th>3742</th>\n",
       "      <td>Diciembre</td>\n",
       "      <td>Otros motivos</td>\n",
       "      <td>72918.0</td>\n",
       "    </tr>\n",
       "  </tbody>\n",
       "</table>\n",
       "<p>108 rows × 3 columns</p>\n",
       "</div>"
      ],
      "text/plain": [
       "             Mes                        item  Viajeros\n",
       "3315       Enero  Vacaciones/recreación/Ocio  123863.0\n",
       "3316     Febrero  Vacaciones/recreación/Ocio  122564.0\n",
       "3317       Marzo  Vacaciones/recreación/Ocio  150348.0\n",
       "3318       Abril  Vacaciones/recreación/Ocio  126448.0\n",
       "3319        Mayo  Vacaciones/recreación/Ocio  116768.0\n",
       "...          ...                         ...       ...\n",
       "3738      Agosto               Otros motivos   74805.0\n",
       "3739  Septiembre               Otros motivos   90249.0\n",
       "3740     Octubre               Otros motivos   88659.0\n",
       "3741   Noviembre               Otros motivos   86080.0\n",
       "3742   Diciembre               Otros motivos   72918.0\n",
       "\n",
       "[108 rows x 3 columns]"
      ]
     },
     "execution_count": 62,
     "metadata": {},
     "output_type": "execute_result"
    }
   ],
   "source": [
    "df2 = df_motViajeTNal[db_turistaNal['Año']==2019]\n",
    "df2 = df2.drop(['Año'],axis=1)\n",
    "df2"
   ]
  },
  {
   "cell_type": "code",
   "execution_count": 67,
   "metadata": {
    "colab": {
     "base_uri": "https://localhost:8080/",
     "height": 599
    },
    "id": "wE9SOMbVLNhR",
    "outputId": "290d6e08-441e-404f-a1b0-6bd7edda2dc3"
   },
   "outputs": [
    {
     "data": {
      "text/plain": [
       "<AxesSubplot:xlabel='item', ylabel='Viajeros'>"
      ]
     },
     "execution_count": 67,
     "metadata": {},
     "output_type": "execute_result"
    },
    {
     "data": {
      "image/png": "[encoded data removed]",
      "text/plain": [
       "<Figure size 1296x576 with 1 Axes>"
      ]
     },
     "metadata": {
      "needs_background": "light"
     },
     "output_type": "display_data"
    }
   ],
   "source": [
    "fig, ax=plt.subplots(1,1, figsize=(18,8))\n",
    "sns.boxplot(y='Viajeros', x='item', data=df1)\n",
    "#sns.boxplot(y='Viajeros', x ='item', data = df2, ax=ax[1])\n",
    "#sns.boxplot(y='loan_amnt', x='loan_status', data=df, ax=ax[2])"
   ]
  },
  {
   "cell_type": "markdown",
   "metadata": {},
   "source": [
    "By checking the above boxplot graph, it is possible to realize that most of the mean of categorical `stayed night` may be similar. Therefore, performing a *t-test* should be suitable to assess this feature."
   ]
  },
  {
   "cell_type": "code",
   "execution_count": 89,
   "metadata": {
    "colab": {
     "base_uri": "https://localhost:8080/"
    },
    "id": "ndxAtrdaayIE",
    "outputId": "662d7897-344b-476c-ff29-330b7c82398f"
   },
   "outputs": [
    {
     "data": {
      "text/plain": [
       "0.06962318811810563"
      ]
     },
     "execution_count": 89,
     "metadata": {},
     "output_type": "execute_result"
    }
   ],
   "source": [
    "a=df1['Viajeros']\n",
    "b=df_motViajeTNal[df_motViajeTNal['item']==\"Negocios Trabajo\"]['Viajeros']\n",
    "T,p=ttest_ind(a,b)\n",
    "p"
   ]
  },
  {
   "cell_type": "markdown",
   "metadata": {
    "id": "7wZ0OZFucd7O"
   },
   "source": [
    "Since the  $p$ -value is almost zero, there is enough statistical evidence to say that the distirbution of `stayed_nights` and `travel_purpose` have different means."
   ]
  },
  {
   "cell_type": "code",
   "execution_count": 85,
   "metadata": {
    "colab": {
     "base_uri": "https://localhost:8080/",
     "height": 460
    },
    "id": "3d69UZFsdJIE",
    "outputId": "57e84413-2ee9-4fab-ce59-b987917dda06"
   },
   "outputs": [
    {
     "name": "stdout",
     "output_type": "stream",
     "text": [
      "verification_status: p-value of chisquare test = 6.534098611306895e-13\n"
     ]
    }
   ],
   "source": [
    "chi2, p, dof, ex = chi2_contingency(pd.crosstab(index=df1['Mes']==\"Enero\", columns=df1['Mes']==\"Julio\"))\n",
    "print('verification_status: p-value of chisquare test =', p)"
   ]
  }
 ],
 "metadata": {
  "colab": {
   "collapsed_sections": [],
   "name": "Team_9_DataBase1.ipynb",
   "provenance": [],
   "toc_visible": true
  },
  "kernelspec": {
   "display_name": "Python 3",
   "language": "python",
   "name": "python3"
  },
  "language_info": {
   "codemirror_mode": {
    "name": "ipython",
    "version": 3
   },
   "file_extension": ".py",
   "mimetype": "text/x-python",
   "name": "python",
   "nbconvert_exporter": "python",
   "pygments_lexer": "ipython3",
   "version": "3.8.5"
  }
 },
 "nbformat": 4,
 "nbformat_minor": 5
}
